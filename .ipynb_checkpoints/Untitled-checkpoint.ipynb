{
 "cells": [
  {
   "cell_type": "markdown",
   "metadata": {},
   "source": [
    "\n",
    "##Assignment 4<br>\n",
    "2010136060 백동우<br><br>\n",
    "[정보]<br>\n",
    "1) Due Date: 2015년 11월 18일 (수), 23시 59분<br>\n",
    "2) 제출방법: ipython notebook으로 작성된 내용을 github에 올려 해당 URL을 EL 사이트에 제출<br>\n",
    "  github url을 http://nbviewer.ipython.org 에 넣어서 산출된 URL을 EL사이트에 제출해도 됨<br>\n",
    "3) 내용: 반드시 python code와 수행 결과를 ipython notebook 내에 작성하여 넣고 이에 대한 설명등을 해당 코드 아래에 markdown cell에 넣어 기입하시오.<br>\n",
    "4) 숙제이후 소감: 문제를 모두 푼 이후에 현재까지 강의를 들은 이후의 소감, 숙제를 한 이후의 소감, 또는 전하고자 하는 말 등을 짧막하게라도 좋으니 마지막에 함께 작성하여 제출하시오.<br>\n",
    "5) 문제 (프로젝트 오일러 6문제 포함하여 총 14개)<br>"
   ]
  },
  {
   "cell_type": "markdown",
   "metadata": {},
   "source": [
    "\n",
    "##[1번 문제]\n",
    "파일 s.txt 내의 다음 내용과 함께 아래 문제의 코드를 제시하시오.\n",
    "\n",
    "pig ham<br>\n",
    "cat dog<br>\n",
    "ham bird<br>\n",
    "dog pig<br>\n",
    "           - 1) 파일 s.txt을 읽어서 각 라인에 있는 첫 번째 단어(문자열) 자체들을 기준으로 라인별 정렬후 파일 s1.txt에 그 결과를 기록하는 코드를 작성하시오. 즉, 프로그램 수행 후 s1.txt에 있는 파일 내용은 다음과 같다.\n",
    "\n",
    "cat dog\n",
    "dog pig\n",
    "ham bird\n",
    "pig ham\n",
    "           - 2) 파일 s.txt을 읽어서 각 라인에 있는 두 번째 단어(문자열) 자체들을 기준으로 라인별 정렬후 파일 s2.txt에 그 결과를 기록하는 코드를 작성하시오. 즉, 프로그램 수행 후 s2.txt에 있는 파일 내용은 다음과 같다.\n",
    "\n",
    "ham bird\n",
    "cat dog\n",
    "pig ham\n",
    "dog pig\n",
    "           - 3) 파일 s.txt을 읽어서 각 라인들에 있는 모든 단어들을 순차적으로 다시 나열하되 각 라인에 세 개의 단어들이 오도록 하여 s3.txt에 기록하는 코드를 작성하시오. 즉, 프로그램 수행 후 s3.txt에 있는 파일 내용은 다음과 같다.\n",
    "\n",
    "pig ham cat\n",
    "dog ham bird\n",
    "dog pig"
   ]
  },
  {
   "cell_type": "code",
   "execution_count": 18,
   "metadata": {
    "collapsed": true
   },
   "outputs": [],
   "source": [
    "s=\"\"\"pig ham\n",
    "cat dog\n",
    "ham bird\n",
    "dog pig\n",
    "\"\"\"\n",
    "f = open('s.txt', 'w') \n",
    "f.write(s)\n",
    "f.close()"
   ]
  },
  {
   "cell_type": "code",
   "execution_count": 25,
   "metadata": {
    "collapsed": false
   },
   "outputs": [
    {
     "name": "stdout",
     "output_type": "stream",
     "text": [
      "cat dog\n",
      "dog pig\n",
      "ham bird\n",
      "pig ham\n",
      "\n"
     ]
    }
   ],
   "source": [
    "# 1\n",
    "f = open('s.txt')\n",
    "line = f.readlines() \n",
    "h=sorted(line)\n",
    "\n",
    "f = open('d.txt','w')\n",
    "f.writelines(h)\n",
    "f.close()\n",
    "\n",
    "f = file('d.txt')\n",
    "l = f.read()\n",
    "print l"
   ]
  },
  {
   "cell_type": "markdown",
   "metadata": {},
   "source": [
    "1) s.txt 파일을 readlines()를 이용하여 리스트에 저장한다. 그리고 sorted로 정렬을 하고 저장한다.  그리고 writelines로 불러들어와 다시 d.txt에 저장을 한다음 d.txt를 실행한다."
   ]
  },
  {
   "cell_type": "code",
   "execution_count": 34,
   "metadata": {
    "collapsed": false,
    "scrolled": true
   },
   "outputs": [
    {
     "name": "stdout",
     "output_type": "stream",
     "text": [
      "ham bird\n",
      "cat dog\n",
      "pig ham\n",
      "dog pig\n",
      "\n"
     ]
    }
   ],
   "source": [
    "# 2\n",
    "def mycmp(a1,a2):\n",
    "    return cmp(a1[4:],a2[4:])\n",
    "\n",
    "f = open('s.txt')\n",
    "s = f.readlines()\n",
    "s.sort(mycmp)\n",
    "\n",
    "f = open('a1.txt', 'w+')\n",
    "f.writelines(s) \n",
    "f.close()\n",
    "\n",
    "f = file('a1.txt') \n",
    "s = f.read()\n",
    "print s"
   ]
  },
  {
   "cell_type": "markdown",
   "metadata": {},
   "source": [
    "2) 파일을 s에 저장한다음 두번째 단어를 비교하는 함수 mycmp를 이용하여 두 번째 단어를 기준으로 라인별 정렬후 다시 s2에 저장한다."
   ]
  },
  {
   "cell_type": "code",
   "execution_count": 34,
   "metadata": {
    "collapsed": false,
    "scrolled": true
   },
   "outputs": [
    {
     "name": "stdout",
     "output_type": "stream",
     "text": [
      "pig ham cat\n",
      "dog ham bird\n",
      "dog pig\n"
     ]
    }
   ],
   "source": [
    "f = open(\"s.txt\", \"r\")\n",
    "newFile = open(\"s3.txt\", \"w\")\n",
    "s = f.read()\n",
    "s = s.split()\n",
    "f.close()\n",
    "for i in range(len(s)):\n",
    "    newFile.write(s[i])\n",
    "    print s[i],\n",
    "    if ((i+1) % 3) == 0:\n",
    "        newFile.write('\\n')\n",
    "        print\n",
    "    else:\n",
    "        newFile.write(' ')\n",
    "\n",
    "newFile.close()"
   ]
  },
  {
   "cell_type": "markdown",
   "metadata": {
    "collapsed": true
   },
   "source": [
    "3) s.txt 파일의 문자열을 읽어 s에 split()으로 단어를 분리하여 저장하였다. 그리고 단어수만큼 반복문과 조건문으으로 각 라인에 세개의 단어가 저장이 되도록 하였다."
   ]
  },
  {
   "cell_type": "markdown",
   "metadata": {},
   "source": [
    "##[2번 문제]\n",
    "다음과 같은 조건들을 참고하여 회원 가입 및 로그인 프로그램을 작성하시오.\n",
    "\n",
    "1) 프로그램 시작 후 다음과 같은 메시지가 출력되어 1, 2, 3 중 하나의 값을 입력 받도록 한다.\n",
    "Welcome to Our Service\n",
    "\n",
    "Sign Up\n",
    "Sign In\n",
    "Quit\n",
    "2) 1을 선택하면 ID, Password, Name, School의 4가지 정보를 입력받아 파일에 저장하는 프로그램을 작성한다.\n",
    "2-1) 입력된 내용은 access.txt 라는 이름의 텍스트 파일 내에 저장된다.\n",
    "2-2) access.txt 파일의 각 라인에는 가입된 회원 각각의 정보가 \"[id]: [password], [name], [school]\" 형태로 저장된다.\n",
    "2-3) 즉, 가입 회원이 10명이면 access.txt 파일 내에 라인 수도 정확히 10개이다.\n",
    "2-4) 암호화 방식은 sha 모듈을 활용한다. sha 모듈 활용 방법은 본 문제의 마지막에 제시된 sha 활용 예를 참고한다.\n",
    "즉, access.txt 파일 내에 password 정보는 암호화 되어 저장되어야 한다.\n",
    "2-5) 회원 정보를 입력 받을 때 id를 입력 받은 직후 access.txt를 확인하여 이미 존재하는 id가 입력되었다면 다음 메시지를 출력하고 id 정보를 다시 입력받는다.\n",
    "Sorry, the entered ID is already used.\n",
    "3) 2를 선택하면 ID, Password의 2가지 정보를 입력받는 프로그램을 작성한다.\n",
    "3-1) 입력된 ID 정보가 access.txt에 존재하지 않으면 다음과 같은 메시지를 출력하고 다시 입력받는다.\n",
    "Sorry, you are not a registered member.\n",
    "3-2) 입력된 ID가 올바르게 존재하지만 Password 정보가 access.txt 파일에 있는 정보와 불일치하면 다음과 같은 메시지를 출력하고 Password를 다시 입력받는다.\n",
    "Sorry, the entered password is not correct.\n",
    "이 때에도 사용자가 입력한 Password 정보와 함께 sha 모듈이 활용되어야 한다.\n",
    "3-3) 입력된 ID와 Password가 모두 올바르면 다음과 같은 메시지를 출력한다.\n",
    "Hello [name]!\n",
    "위 [name]에는 access.txt에 기록되어 있는 name 정보를 출력한다.\n",
    "4) 3을 선택하면 프로그램이 끝난다.\n",
    "[참고] sha 모듈 활용 예"
   ]
  },
  {
   "cell_type": "code",
   "execution_count": 2,
   "metadata": {
    "collapsed": false
   },
   "outputs": [
    {
     "name": "stdout",
     "output_type": "stream",
     "text": [
      "Welcome to Our Service\n",
      "\n",
      "1. Sign Up\n",
      "2. Sign In\n",
      "3. Quit\n",
      "command: 1\n",
      " ID: bobbob\n",
      " Password: 010010\n",
      " Name: hankook\n",
      " School: hankidae\n",
      "Welcome to Our Service\n",
      "\n",
      "1. Sign Up\n",
      "2. Sign In\n",
      "3. Quit\n",
      "command: 2\n",
      " Enter Id: bobbob\n",
      " Password: 010010\n",
      "Hello hankook\n",
      "hankook\n",
      "Welcome to Our Service\n",
      "\n",
      "1. Sign Up\n",
      "2. Sign In\n",
      "3. Quit\n",
      "command: 3\n"
     ]
    }
   ],
   "source": [
    "# -*-coding:utf-8 -*-\n",
    "import sha\n",
    "import os\n",
    "\n",
    "def mainMenu():\n",
    "        print \"Welcome to Our Service\"\n",
    "        print\n",
    "        print \"1. Sign Up\"\n",
    "        print \"2. Sign In\"\n",
    "        print \"3. Quit\"\n",
    "        pass\n",
    "\n",
    "def signUp():\n",
    "        members = {}\n",
    "    \n",
    "        if os.path.exists('access.txt') == False:\n",
    "            db = open('access.txt', 'w')\n",
    "            db.close()\n",
    "\n",
    "        db = open('access.txt', 'r')\n",
    "        for data in db:\n",
    "            ids = data.split(':')[0]\n",
    "            password = data.split(':')[1].split(',')[0][1:]\n",
    "            name = data.split(':')[1].split(',')[1][1:]\n",
    "            school = data.split(':')[1].split(',')[2][1:].strip()\n",
    "            members[ids] = (password, name, school)\n",
    "        db.close()\n",
    "        \n",
    "        while True:\n",
    "            ids = raw_input(\" ID: \")\n",
    "            if ids in members:\n",
    "                print \"Sorry, the entered ID is already used.\"\n",
    "            else:\n",
    "                break\n",
    "        password = sha.new(raw_input(\" Password: \")).hexdigest()\n",
    "        name = raw_input(\" Name: \")\n",
    "        school = raw_input(\" School: \")\n",
    "        members[ids] = (password, name, school)\n",
    "\n",
    "        db = open('access.txt', 'a')\n",
    "        for ids in members:\n",
    "            db.write(ids + ': ' + members[ids][0] + ', ' + members[ids][1] + ', ' + members[ids][2] + '\\n')\n",
    "        db.close()\n",
    "        \n",
    "def signIn():\n",
    "        members = {}\n",
    "    \n",
    "        if os.path.exists('access.txt') == False:\n",
    "            db = open('access.txt', 'w')\n",
    "            db.close()\n",
    "\n",
    "        db = open('access.txt', 'r')\n",
    "        for data in db:\n",
    "            ids = data.split(':')[0]\n",
    "            password = data.split(':')[1].split(',')[0][1:]\n",
    "            name = data.split(':')[1].split(',')[1][1:]\n",
    "            school = data.split(':')[1].split(',')[2][1:].strip()\n",
    "\n",
    "            members[ids] = (password, name, school)\n",
    "        db.close()\n",
    "\n",
    "        ids = raw_input(\" Enter Id: \")\n",
    "        if ids in members:\n",
    "            password = sha.new(raw_input(\" Password: \")).hexdigest()\n",
    "            if members[ids][0] == password:\n",
    "                print 'Hello ' + members[ids][1]\n",
    "                print members[ids][1]\n",
    "            else:\n",
    "                print 'Sorry, the entered password is not correct'\n",
    "        else:\n",
    "            print 'Sorry, you are not a registered member.'\n",
    "\n",
    "members = {}            \n",
    "while True:\n",
    "    mainMenu()\n",
    "    cmd = input(\"command: \")\n",
    "    if cmd == 1:\n",
    "        signUp()\n",
    "    elif cmd == 2:\n",
    "        signIn()\n",
    "    elif cmd == 3:\n",
    "        break\n",
    "    else:\n",
    "        print \"%d is not command.\" % cmd"
   ]
  },
  {
   "cell_type": "markdown",
   "metadata": {},
   "source": [
    "먼저 처음 메뉴에서 각각 Sign Up과 Sign In, Quit를  표시하는 함수를 만들었다.\n",
    "회원 가입 시 기존에 파일에 존재하는 아이디의 유무를 확인하고 다시 아이디를 입력 받는다.   입력이 완료가 되면 사전으로 새로운 아이디를 key값으로 데이터를 저장한다.\n",
    "로그인 시에는 id가 사전에 키값으로 존재하는지 판독후 존재를 하면 비밀번호가 맞는지 검사한다. 비밀번호는 입력을 받으면 암호화된 값이 같은지 판독을 하여 같으면 로그인을 한다."
   ]
  },
  {
   "cell_type": "markdown",
   "metadata": {},
   "source": [
    "##[3번 문제]\n",
    "range() 함수와 유사한 frange() 함수를 다음 조건을 참고하여 만드시오.\n",
    "\n",
    "1) frange()의 인자 구성은 다음과 같이 range와 동일하지만 각 인수들은 음수를 받지 않는다고 가정한다.\n",
    "range(stop)\n",
    "range(start, stop[, step])\n",
    "2) frange() 함수의 인자에 대한 기본 시작(start) 값은 0.0이고, 기본 단계(step) 값은 0.1이다.\n",
    "3) frange 사용 예\n",
    "3-1) frange(0.5)\n",
    "[0.0, 0.1, 0.2, 0.3, 0.4]\n",
    "3-2) frange(1.0, 2.0)\n",
    "[1.0, 1.1, 1.2, 1.3, 1.4, 1.5, 1.6, 1.7, 1.8, 1.9]\n",
    "3-3) frange(2.2, 4.0, 0.5)\n",
    "[2.2, 2.7, 3.2, 3.7]"
   ]
  },
  {
   "cell_type": "code",
   "execution_count": 11,
   "metadata": {
    "collapsed": false
   },
   "outputs": [
    {
     "name": "stdout",
     "output_type": "stream",
     "text": [
      "[0.0, 0.1, 0.2, 0.3, 0.4]\n",
      "[1.0, 1.1, 1.2, 1.3, 1.4, 1.5, 1.6, 1.7, 1.8, 1.9]\n",
      "[2.2, 2.7, 3.2, 3.7]\n"
     ]
    }
   ],
   "source": [
    "def frange(num1=0.0, num2=0.0,num3=0.0):\n",
    "    if num2==0.0:\n",
    "        A=[]\n",
    "        while True:   \n",
    "            A.append(round(num2,2))     \n",
    "            num2=num2+0.1\n",
    "            if num1<=num2:\n",
    "                break                \n",
    "        print A\n",
    "    \n",
    "    elif num2!=0.0 and num3==0.0: \n",
    "        A=[]\n",
    "        while True:\n",
    "            A.append(round(num1,2))      \n",
    "            num1=num1+0.1       \n",
    "            if num1>num2:\n",
    "                break   \n",
    "        print A  \n",
    "    else:\n",
    "        A=[]\n",
    "        while True:\n",
    "            A.append(round(num1,2))        \n",
    "            num1=num1+num3    \n",
    "            if num1>num2:\n",
    "                break   \n",
    "        print A\n",
    "frange(0.5)    \n",
    "frange(1.0, 2.0)    \n",
    "frange(2.2, 4.0, 0.5)"
   ]
  },
  {
   "cell_type": "markdown",
   "metadata": {},
   "source": [
    "frange 함수에서 인자를 하나만 받았을 경우와 두개를 받았을 경우, 세개를 다 받았을 경우의 조건문을 구현하였다. append()를 이용하여 소수점에서 반올림하였다."
   ]
  },
  {
   "cell_type": "markdown",
   "metadata": {},
   "source": [
    "\n",
    "##[4번 문제]\n",
    "가변인수를 받는 함수 sum()을 다음과 같은 조건을 참고하여 구현하시오\n",
    "\n",
    "sum() 사용 예\n",
    "sum()\n",
    "0\n",
    "sum(1, 2)\n",
    "3\n",
    "sum(1, 2, 3, 4, 5)\n",
    "15\n",
    "sum(1, 5, 7, 2, -10)\n",
    "5"
   ]
  },
  {
   "cell_type": "code",
   "execution_count": 5,
   "metadata": {
    "collapsed": false
   },
   "outputs": [
    {
     "name": "stdout",
     "output_type": "stream",
     "text": [
      "0\n",
      "3\n",
      "15\n",
      "5\n"
     ]
    }
   ],
   "source": [
    "def sum(*args):\n",
    "        element = args\n",
    "        result = 0;\n",
    "        if element is None:\n",
    "            return result;\n",
    "        else:\n",
    "            for x in args:\n",
    "                result += x\n",
    "            else:\n",
    "                return result\n",
    "            \n",
    "print sum()\n",
    "print sum(1,2)\n",
    "print sum(1,2,3,4,5)\n",
    "print sum(1,5,7,2,-10)"
   ]
  },
  {
   "cell_type": "markdown",
   "metadata": {},
   "source": [
    " *args을 통하여하여 sum함수가 가변 인수를 받는다. 반복문을 이용하여 sum을 계산하고 값을 반환한다."
   ]
  },
  {
   "cell_type": "markdown",
   "metadata": {},
   "source": [
    "\n",
    "##[5번 문제]\n",
    "여러 단어로 이루어진 문자열을 입력받아 각 단어의 첫글자로 이루어진 단어를 대문자로 출력하는 myinitial() 함수를 다음 조건을 참고하여 작성하시오.\n",
    "\n",
    "1) 다음에 제시되는 함수들을 모두 이용해야 한다.\n",
    "split\n",
    "map\n",
    "join\n",
    "2) myinitial() 함수 사용 예\n",
    "myinitial(\"as soon as possible\")\n",
    "ASAP"
   ]
  },
  {
   "cell_type": "code",
   "execution_count": 35,
   "metadata": {
    "collapsed": false
   },
   "outputs": [
    {
     "name": "stdout",
     "output_type": "stream",
     "text": [
      "ASAP\n"
     ]
    }
   ],
   "source": [
    "def myInitial(st):\n",
    "    small = map(lambda x: x[0], st.split())    \n",
    "    Big = ''.join(small)\n",
    "    print Big.upper()\n",
    "\n",
    "myInitial(\"as soon as possible\")"
   ]
  },
  {
   "cell_type": "markdown",
   "metadata": {},
   "source": [
    "split으로 각문자 첫글자 firstnum에 저장한다. 그리고 리스트를 문자열로 반환하고 upper을 이용하여 대문자로 반환한다."
   ]
  },
  {
   "cell_type": "markdown",
   "metadata": {},
   "source": [
    "\n",
    "##[6번 문제]\n",
    "음이 아닌 정수 n를 입력받으면 n! (factorial)을 계산하는 myfact() 함수를 재귀적 함수로 구현하시오.\n",
    "\n",
    "[옵션] 참을 수 있는 정도 만큼의 수행시간을 직접 기다려보면서 n을 늘려보도록 합시다."
   ]
  },
  {
   "cell_type": "code",
   "execution_count": 15,
   "metadata": {
    "collapsed": false
   },
   "outputs": [
    {
     "name": "stdout",
     "output_type": "stream",
     "text": [
      "5\n",
      "120\n"
     ]
    }
   ],
   "source": [
    "def myfact(n):\n",
    "        if n == 1 or n == 0:\n",
    "            return 1;\n",
    "        else:\n",
    "            return n * myFactorial(n-1)\n",
    "        \n",
    "number = input()\n",
    "if number < 0:\n",
    "        print \"%d is negative number.....\" % (number)\n",
    "else:\n",
    "    print\"%d\" %(myfact(number))"
   ]
  },
  {
   "cell_type": "markdown",
   "metadata": {},
   "source": [
    "조건문을 이용하여 입력이 1이거나 0이면 1을반환하도록하고, 그외에는 재귀함수로 n!를 구현하였다. "
   ]
  },
  {
   "cell_type": "markdown",
   "metadata": {},
   "source": [
    "##[7번 문제]\n",
    "(서술형) import string 과 from string import * 의 차이점을 설명하시오."
   ]
  },
  {
   "cell_type": "markdown",
   "metadata": {},
   "source": [
    "import string은 예를들어 string.함수이름() 형식으로 해당 모듈의 이름들을 사용할수있고,\n",
    "from string import *은 해당 모듈내에 존재하는 함수, 즉 __ 로 시작되는 이름을 제외한 모함수들을 현재 이름 공간으로 가져온다."
   ]
  },
  {
   "cell_type": "markdown",
   "metadata": {},
   "source": [
    "##[8번 문제]\n",
    "프로젝트 오일러 문제 10\n",
    "\n",
    "10 이하의 소수를 모두 더하면 2 + 3 + 5 + 7 = 17 이 됩니다.\n",
    "\n",
    "이백만(2,000,000) 이하 소수의 합은 얼마입니까?"
   ]
  },
  {
   "cell_type": "code",
   "execution_count": 16,
   "metadata": {
    "collapsed": false
   },
   "outputs": [
    {
     "name": "stdout",
     "output_type": "stream",
     "text": [
      "9914236195\n"
     ]
    }
   ],
   "source": [
    "def isPrime(n):\n",
    "  if n==2:\n",
    "    return True\n",
    "  elif n%2==0:\n",
    "    return False\n",
    "\n",
    "  i=3\n",
    "  import math\n",
    "  range=int(math.sqrt(n))+1\n",
    "  while i<range:\n",
    "    if(n%i==0):\n",
    "      return False\n",
    "    i+=1\n",
    "\n",
    "  return True\n",
    "\n",
    "num=2; sumOfPrime=0\n",
    "while True:\n",
    "  if isPrime(num):\n",
    "    sumOfPrime+=num\n",
    "  num+=1\n",
    "\n",
    "  if num==500000:\n",
    "      break\n",
    "\n",
    "print (sumOfPrime)"
   ]
  },
  {
   "cell_type": "markdown",
   "metadata": {},
   "source": [
    "isPrime 함수를 통하여 소수를 구하였고 조건문을 이용하여 소수이면 sumOfPrime에 모두 더하여서 최종 소수의 합을 구하였다."
   ]
  },
  {
   "cell_type": "markdown",
   "metadata": {},
   "source": [
    "##[9번 문제]\n",
    "프로젝트 오일러 문제 11\n",
    "\n",
    "아래와 같은 20×20 격자가 있습니다.\n",
    "\n",
    "08 02 22 97 38 15 00 40 00 75 04 05 07 78 52 12 50 77 91 08\n",
    "49 49 99 40 17 81 18 57 60 87 17 40 98 43 69 48 04 56 62 00\n",
    "81 49 31 73 55 79 14 29 93 71 40 67 53 88 30 03 49 13 36 65\n",
    "52 70 95 23 04 60 11 42 69 24 68 56 01 32 56 71 37 02 36 91\n",
    "22 31 16 71 51 67 63 89 41 92 36 54 22 40 40 28 66 33 13 80\n",
    "24 47 32 60 99 03 45 02 44 75 33 53 78 36 84 20 35 17 12 50\n",
    "32 98 81 28 64 23 67 10 26 38 40 67 59 54 70 66 18 38 64 70\n",
    "67 26 20 68 02 62 12 20 95 63 94 39 63 08 40 91 66 49 94 21\n",
    "24 55 58 05 66 73 99 26 97 17 78 78 96 83 14 88 34 89 63 72\n",
    "21 36 23 09 75 00 76 44 20 45 35 14 00 61 33 97 34 31 33 95\n",
    "78 17 53 28 22 75 31 67 15 94 03 80 04 62 16 14 09 53 56 92\n",
    "16 39 05 42 96 35 31 47 55 58 88 24 00 17 54 24 36 29 85 57\n",
    "86 56 00 48 35 71 89 07 05 44 44 37 44 60 21 58 51 54 17 58\n",
    "19 80 81 68 05 94 47 69 28 73 92 13 86 52 17 77 04 89 55 40\n",
    "04 52 08 83 97 35 99 16 07 97 57 32 16 26 26 79 33 27 98 66\n",
    "88 36 68 87 57 62 20 72 03 46 33 67 46 55 12 32 63 93 53 69\n",
    "04 42 16 73 38 25 39 11 24 94 72 18 08 46 29 32 40 62 76 36\n",
    "20 69 36 41 72 30 23 88 34 62 99 69 82 67 59 85 74 04 36 16\n",
    "20 73 35 29 78 31 90 01 74 31 49 71 48 86 81 16 23 57 05 54\n",
    "01 70 54 71 83 51 54 69 16 92 33 48 61 43 52 01 89 19 67 48\n",
    "위에서 대각선 방향으로 연속된 붉은 숫자 네 개의 곱은 26 × 63 × 78 × 14 = 1788696 입니다.\n",
    "\n",
    "그러면 수평, 수직, 또는 대각선 방향으로 연속된 숫자 네 개의 곱 중 최대값은 얼마입니까?\n"
   ]
  },
  {
   "cell_type": "code",
   "execution_count": 18,
   "metadata": {
    "collapsed": false
   },
   "outputs": [
    {
     "name": "stdout",
     "output_type": "stream",
     "text": [
      "70600674\n"
     ]
    }
   ],
   "source": [
    "g = [\n",
    "[8,2,22,97,38,15,0,40,0,75,4,5,7,78,52,12,50,77,91,8],\n",
    "[49,49,99,40,17,81,18,57,60,87,17,40,98,43,69,48,4,56,62,0],\n",
    "[81,49,31,73,55,79,14,29,93,71,40,67,53,88,30,3,49,13,36,65],\n",
    "[52,70,95,23,4,60,11,42,69,24,68,56,1,32,56,71,37,2,36,91],\n",
    "[22,31,16,71,51,67,63,89,41,92,36,54,22,40,40,28,66,33,13,80],\n",
    "[24,47,32,60,99,3,45,2,44,75,33,53,78,36,84,20,35,17,12,50],\n",
    "[32,98,81,28,64,23,67,10,26,38,40,67,59,54,70,66,18,38,64,70],\n",
    "[67,26,20,68,2,62,12,20,95,63,94,39,63,8,40,91,66,49,94,21],\n",
    "[24,55,58,5,66,73,99,26,97,17,78,78,96,83,14,88,34,89,63,72],\n",
    "[21,36,23,9,75,0,76,44,20,45,35,14,0,61,33,97,34,31,33,95],\n",
    "[78,17,53,28,22,75,31,67,15,94,3,80,4,62,16,14,9,53,56,92],\n",
    "[16,39,5,42,96,35,31,47,55,58,88,24,0,17,54,24,36,29,85,57],\n",
    "[86,56,0,48,35,71,89,7,5,44,44,37,44,60,21,58,51,54,17,58],\n",
    "[19,80,81,68,5,94,47,69,28,73,92,13,86,52,17,77,4,89,55,40],\n",
    "[4,52,8,83,97,35,99,16,7,97,57,32,16,26,26,79,33,27,98,66],\n",
    "[88,36,68,87,57,62,20,72,3,46,33,67,46,55,12,32,63,93,53,69],\n",
    "[4,42,16,73,38,25,39,11,24,94,72,18,8,46,29,32,40,62,76,36],\n",
    "[20,69,36,41,72,30,23,88,34,62,99,69,82,67,59,85,74,4,36,16],\n",
    "[20,73,35,29,78,31,90,1,74,31,49,71,48,86,81,16,23,57,5,54],\n",
    "[1,70,54,71,83,51,54,69,16,92,33,48,61,43,52,1,89,19,67,48]\n",
    "]\n",
    "\n",
    "maxmult = 0\n",
    "rows=len(g) \n",
    "cols=len(g[0])\n",
    "size=4\n",
    "\n",
    "for i in range(rows):\n",
    "    for j in range(cols - size + 1):\n",
    "      \n",
    "        phv = max(g[i][j] * g[i][j+1] * g[i][j+2] * g[i][j+3],\n",
    "                  g[j][i] * g[j+1][i] * g[j+2][i] * g[j+3][i])\n",
    "                  \n",
    "        if i < rows - size:  \n",
    "           pdd = max(g[i][j] * g[i+1][j+1] * g[i+2][j+2] * g[i+3][j+3],\n",
    "                     g[i][j+3] * g[i+1][j+2] * g[i+2][j+1] * g[i+3][j])\n",
    "        maxmult = max(maxmult, phv, pdd)\n",
    " \n",
    "print maxmult"
   ]
  },
  {
   "cell_type": "markdown",
   "metadata": {},
   "source": [
    "행의크기와 열의크기를 구한다음에 조건문을 이용하여 range에서 전체 행에서 가로곱과 세로곱을 구한다. 거기서 큰것을 phv에 저장하고 max를 이용하여 가장 큰 값을 구한다."
   ]
  },
  {
   "cell_type": "markdown",
   "metadata": {},
   "source": [
    "##[10번 문제]\n",
    "프로젝트 오일러 문제 12\n",
    "\n",
    "1부터 n까지의 자연수를 차례로 더하여 구해진 값을 삼각수라고 합니다.\n",
    "예를 들어 7번째 삼각수는 1 + 2 + 3 + 4 + 5 + 6 + 7 = 28이 됩니다.\n",
    "이런 식으로 삼각수를 구해 나가면 다음과 같습니다.\n",
    "\n",
    "1, 3, 6, 10, 15, 21, 28, 36, 45, 55, ...\n",
    "이 삼각수들의 약수를 구해봅시다.\n",
    "\n",
    " 1: 1\n",
    " 3: 1, 3\n",
    " 6: 1, 2, 3, 6\n",
    "10: 1, 2, 5, 10\n",
    "15: 1, 3, 5, 15\n",
    "21: 1, 3, 7, 21\n",
    "28: 1, 2, 4, 7, 14, 28\n",
    "위에서 보듯이, 5개 이상의 약수를 갖는 첫번째 삼각수는 28입니다.\n",
    "\n",
    "그러면 500개 이상의 약수를 갖는 가장 작은 삼각수는 얼마입니까?"
   ]
  },
  {
   "cell_type": "code",
   "execution_count": 21,
   "metadata": {
    "collapsed": false
   },
   "outputs": [
    {
     "name": "stdout",
     "output_type": "stream",
     "text": [
      "76576500\n"
     ]
    }
   ],
   "source": [
    "def numberOfPrimeFactors(num):\n",
    "\n",
    "    if num==1:\n",
    "        return 1\n",
    "\n",
    "    startnum=2\n",
    "    exponentDict=dict()\n",
    "    \n",
    "    quota=0\n",
    "    rest=0\n",
    "    \n",
    "    while True:\n",
    "        quota=num/startnum\n",
    "        rest=num%startnum\n",
    "        \n",
    "        if rest==0:\n",
    "            if startnum in exponentDict:\n",
    "                exponentDict[startnum] = exponentDict.get(startnum) + 1\n",
    "            else:\n",
    "                exponentDict[startnum]=1\n",
    "\n",
    "            startnum=2\n",
    "            num=quota\n",
    "        else:\n",
    "            startnum+=1\n",
    "\n",
    "        if quota==1 and rest==0:\n",
    "            break\n",
    "  \n",
    "    l=exponentDict.values()\n",
    "    \n",
    "    r=1\n",
    "    for x in l:\n",
    "        r = r * (x+1)\n",
    "\n",
    "    return r\n",
    "\n",
    "\n",
    "i=1\n",
    "result=0\n",
    "while True:\n",
    "    result+=i\n",
    "    i+=1\n",
    "    \n",
    "   \n",
    "    numberOfPrime=numberOfPrimeFactors(result)\n",
    "    \n",
    "    if numberOfPrime >= 500:\n",
    "        print(result)\n",
    "        break"
   ]
  },
  {
   "cell_type": "markdown",
   "metadata": {},
   "source": [
    " numberOfPrimeFactors함수에서 소인수분해를 하여 약수의 개수를 구한다음에 약수의 개수를 받아내어 가장 작은 삼각수를 구하였다."
   ]
  },
  {
   "cell_type": "markdown",
   "metadata": {},
   "source": [
    "##[11번 문제]\n",
    "프로젝트 오일러 문제 13\n",
    "\n",
    "아래에 50자리 숫자가 100개 있습니다. 이것을 모두 더한 값의 첫 10자리는 얼마입니까?\n",
    "\n",
    "37107287533902102798797998220837590246510135740250\n",
    "46376937677490009712648124896970078050417018260538\n",
    "74324986199524741059474233309513058123726617309629\n",
    "91942213363574161572522430563301811072406154908250\n",
    "23067588207539346171171980310421047513778063246676\n",
    "89261670696623633820136378418383684178734361726757\n",
    "28112879812849979408065481931592621691275889832738\n",
    "44274228917432520321923589422876796487670272189318\n",
    "47451445736001306439091167216856844588711603153276\n",
    "\n",
    "....\n",
    "\n",
    "72107838435069186155435662884062257473692284509516\n",
    "20849603980134001723930671666823555245252804609722\n",
    "53503534226472524250874054075591789781264330331690"
   ]
  },
  {
   "cell_type": "code",
   "execution_count": 33,
   "metadata": {
    "collapsed": false
   },
   "outputs": [
    {
     "name": "stdout",
     "output_type": "stream",
     "text": [
      "3710728753\n"
     ]
    }
   ],
   "source": [
    "f=open('project13.txt','r')\n",
    "nums=f.readlines()\n",
    "f.close()\n",
    "num=0\n",
    "for n in nums:\n",
    "    num+=int(n)\n",
    "print str(num)[0:10]"
   ]
  },
  {
   "cell_type": "markdown",
   "metadata": {},
   "source": [
    "각 라인을 리스트로 반환하고 리스트 원소들을 n에 할당한여 num에더한다.. 그리고 처음 10자리를 출력한다."
   ]
  },
  {
   "cell_type": "markdown",
   "metadata": {},
   "source": [
    "##[12번 문제]\n",
    "프로젝트 오일러 문제 14\n",
    "\n",
    "양의 정수 n에 대하여, 다음과 같은 계산 과정을 반복하기로 합니다.\n",
    "\n",
    "n → n / 2 (n이 짝수일 때)\n",
    "n → 3 n + 1 (n이 홀수일 때)\n",
    "\n",
    "13에 대하여 위의 규칙을 적용해보면 아래처럼 10번의 과정을 통해 1이 됩니다.\n",
    "\n",
    "13 → 40 → 20 → 10 → 5 → 16 → 8 → 4 → 2 → 1\n",
    "아직 증명은 되지 않았지만, 이런 과정을 거치면 어떤 수로 시작해도 마지막에는 1로 끝나리라 생각됩니다. \n",
    "(역주: 이것은 콜라츠 추측 Collatz Conjecture이라고 하며, 이런 수들을 우박수 hailstone sequence라 부르기도 합니다)\n",
    "\n",
    "그러면, 백만(1,000,000) 이하의 수로 시작했을 때 1까지 도달하는데 가장 긴 과정을 거치는 숫자는 얼마입니까?\n",
    "\n",
    "참고: 계산 과정 도중에는 숫자가 백만을 넘어가도 괜찮습니다."
   ]
  },
  {
   "cell_type": "code",
   "execution_count": 15,
   "metadata": {
    "collapsed": false
   },
   "outputs": [
    {
     "name": "stdout",
     "output_type": "stream",
     "text": [
      "('big', 837799)\n"
     ]
    }
   ],
   "source": [
    "def a(num):\n",
    "    return int(num/2)\n",
    "\n",
    "def b(num):\n",
    "    return (3*num) + 1\n",
    "\n",
    "targetnum=1000000\n",
    "loopCnt=1\n",
    "\n",
    "biggestLoopCnt=0\n",
    "biggestLoopCntNum=0\n",
    "\n",
    "r=targetnum\n",
    "while True:\n",
    "\n",
    "    if r%2 == 0:\n",
    "        r=a(r)\n",
    "\n",
    "    else:\n",
    "        r=b(r)\n",
    "\n",
    "    loopCnt+=1\n",
    "    \n",
    "    if r==1:\n",
    "        if biggestLoopCnt < loopCnt:\n",
    "            biggestLoopCnt = loopCnt\n",
    "            biggestLoopCntNum=targetnum\n",
    "\n",
    "        loopCnt=1\n",
    "        targetnum-=1\n",
    "        r=targetnum\n",
    "\n",
    "    if targetnum==1:\n",
    "        break\n",
    "\n",
    "print(\"big\", biggestLoopCntNum)"
   ]
  },
  {
   "cell_type": "markdown",
   "metadata": {},
   "source": [
    "biggestLoopCnt에 조건문을 비교하여 위와 같이 구하였다."
   ]
  },
  {
   "cell_type": "markdown",
   "metadata": {},
   "source": [
    "##[13번 문제]\n",
    "프로젝트 오일러 문제 15\n",
    "\n",
    "아래와 같은 2 × 2 격자의 왼쪽 위 모서리에서 출발하여 오른쪽 아래 모서리까지 도달하는 길은 모두 6가지가 있습니다 (거슬러 가지는 않기로 합니다).\n",
    "\n",
    "\n",
    "그러면 20 × 20 격자에는 모두 몇 개의 경로가 있습니까?"
   ]
  },
  {
   "cell_type": "code",
   "execution_count": 29,
   "metadata": {
    "collapsed": false,
    "scrolled": true
   },
   "outputs": [
    {
     "name": "stdout",
     "output_type": "stream",
     "text": [
      "137846528820\n"
     ]
    }
   ],
   "source": [
    "from math import factorial\n",
    " \n",
    "def Euler():\n",
    "    print factorial(40) / (factorial(20) * factorial(20))\n",
    "    \n",
    "Euler()"
   ]
  },
  {
   "cell_type": "markdown",
   "metadata": {},
   "source": [
    "순열의 공식을 사용하여 구하였다."
   ]
  },
  {
   "cell_type": "markdown",
   "metadata": {},
   "source": [
    "\n",
    "##[14번 문제]\n",
    "이전 Assignment 3의 마지막 문제는 웹 URL로 지정된 웹페이지를 문자열로 가져와 모든 HTML 태그 및 CSS와 Javascript를 제외한 순수 텍스트를 얻어내고 그 안에 존재하는 단어를 추출하여 각 단어들에 대해 출현빈도를 사전형태({'world': 2, 'hello': 1, 'python': 1})로 저장하여 출력하는 것이었다. 이번에는 Assignment 3를 확장하여 다음과 같은 조건을 만족하도록 구현하시오."
   ]
  },
  {
   "cell_type": "code",
   "execution_count": null,
   "metadata": {
    "collapsed": true
   },
   "outputs": [],
   "source": []
  },
  {
   "cell_type": "markdown",
   "metadata": {},
   "source": [
    "##소감"
   ]
  },
  {
   "cell_type": "markdown",
   "metadata": {},
   "source": [
    "이번 과제를 하면서 많이 부족함을 느꼈다. 최근에 다른일로 너무 바빠서 공부를 집중해서 많이 해지 못하였기때문에 앞으로 더 많이 노력해야 겠다고 생각했다. 이번 주말에는 파이썬 스크립트 프로그래밍을 좀더 보고 공부하는 시간을 가져봐야 겠다."
   ]
  }
 ],
 "metadata": {
  "kernelspec": {
   "display_name": "Python 2",
   "language": "python",
   "name": "python2"
  },
  "language_info": {
   "codemirror_mode": {
    "name": "ipython",
    "version": 2
   },
   "file_extension": ".py",
   "mimetype": "text/x-python",
   "name": "python",
   "nbconvert_exporter": "python",
   "pygments_lexer": "ipython2",
   "version": "2.7.9"
  }
 },
 "nbformat": 4,
 "nbformat_minor": 0
}
