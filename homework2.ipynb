{
 "cells": [
  {
   "cell_type": "markdown",
   "metadata": {},
   "source": [
    "#Assignment 2\n",
    "[정보]\n",
    "1) Due Date: 2015년 10월 07일 (수), 23시 59분\n",
    "2) 제출방법: ipython notebook으로 작성된 내용을 github에 올려 해당 URL을 EL 사이트에 제출\n",
    "- github url을 http://nbviewer.ipython.org 에 넣어서 산출된 URL을 EL사이트에 제출해도 됨\n",
    "3) 내용: 반드시 python code와 수행 결과를 ipython notebook 내에 작성하여 넣고 이에 대한 설명등을 해당 코드 아래에 markdown cell에 넣어 기입하시오.\n",
    "4) 숙제이후 소감: 문제를 모두 푼 이후에 현재까지 강의를 들은 이후의 소감, 숙제를 한 이후의 소감, 또는 전하고자 하는 말 등을 짧막하게라도 좋으니 마지막에 함께 작성하여 제출하시오.\n",
    "5) 문제 (프로젝트 오일러 3문제 포함하여 총 8개)"
   ]
  },
  {
   "cell_type": "markdown",
   "metadata": {},
   "source": [
    "##스크립트프로그래밍 - 02분반 - 2010136060 - 백동우"
   ]
  },
  {
   "cell_type": "markdown",
   "metadata": {},
   "source": [
    "###1. 다음 6 개의 Expression에 대해 Evaluation 결과 값을 출력하고, 해당 결과가 나온 이유에 대해 설명하시오\n",
    "1 and 2 and 3 and 4\n",
    "1 or 2 or 3 or 4\n",
    "1 and 2 or 3 and 4\n",
    "(1 and 2) or (3 and 4)\n",
    "1 or 2 and 3 or 4\n",
    "(1 or 2) and (3 or 4)"
   ]
  },
  {
   "cell_type": "code",
   "execution_count": 7,
   "metadata": {
    "collapsed": false
   },
   "outputs": [
    {
     "name": "stdout",
     "output_type": "stream",
     "text": [
      "4\n",
      "1\n",
      "2\n",
      "2\n",
      "1\n",
      "3\n"
     ]
    }
   ],
   "source": [
    "print 1 and 2 and 3 and 4\n",
    "print 1 or 2 or 3 or 4\n",
    "print 1 and 2 or 3 and 4\n",
    "print (1 and 2) or (3 and 4)\n",
    "print 1 or 2 and 3 or 4\n",
    "print (1 or 2) and (3 or 4)"
   ]
  },
  {
   "cell_type": "markdown",
   "metadata": {
    "collapsed": true
   },
   "source": [
    "첫번째 and 연산자 3개의 경우에는 맨 왼쪽부터 차례대로 큰수를 비교해서 반환한다. 때문에 4가 출력\n",
    "두번째 or 연산자 3개의 경우에는 맨 왼쪽부터 차례대로 작은수를 비교해서 반환한다. 때문에 1이 출력\n",
    "세번째 경우에는 연산자 우선순위에 의해 양쪽의 and연산자 2개가 차례로 수행되고 그다음 or이 수행된다. 때문에 2 출력\n",
    "네번째 경우에는 괄호에 의해서 먼저 계산이 되고 or을 수행. 때문에 2 출력\n",
    "다섯째 경우에는 and가 먼저 수행이 될것이다. 그러고나서 왼쪽에서부터 or연산을 수행하기 때문에 가장 작은 수인 1을 출력한다.\n",
    "여섯째 경우에는 or에 있는 괄호안이 먼저 수행되고 그다음 and로 큰수를 출력하기 때문에 3이 출력된다."
   ]
  },
  {
   "cell_type": "markdown",
   "metadata": {},
   "source": [
    "###2. 키보드로 정수값을 입력 받고 그 값이 양수인지 음수인지를 비트 연산자를 이용하여 판단하는 프로그램을 작성하시오.\n",
    "[참고] 가장 왼쪽에 있는 비트가 0이면 양수이며, 1이면 음수이다.\n",
    "[참고] 수업보충자료 (https://github.com/bluebibi/python-e-learning/blob/master/supplement.ipynb) 를 참고하시오."
   ]
  },
  {
   "cell_type": "code",
   "execution_count": 11,
   "metadata": {
    "collapsed": false
   },
   "outputs": [
    {
     "name": "stdout",
     "output_type": "stream",
     "text": [
      "input :-10\n",
      "음수\n"
     ]
    }
   ],
   "source": [
    "b = int(raw_input('input :'));\n",
    "test = b>>(b.bit_length());\n",
    "\n",
    "if test == 0 :\n",
    "    print '양수';\n",
    "else:\n",
    "    print '음수';        "
   ]
  },
  {
   "cell_type": "markdown",
   "metadata": {
    "collapsed": true
   },
   "source": [
    "먼저 입력받은 수를 정수형으로 변환하여 저장을 한다. 그다음 저장된 값에서 그값의 비트의 길이를 구한다음 비트의 길이만큼 오른쪽으로 비트를 쉬프트 시켜준다. 그렇게 되면 정수이면 자동적으로 0으로 채워질테니까 정수일 경우에는 값이 0이 된다. 그다음 조건문을 이용해서 0이면 '양수', 음수일경우에는 -1이나오는데, 그럴 경우에는 '음수'라고 출력해준다."
   ]
  },
  {
   "cell_type": "markdown",
   "metadata": {},
   "source": [
    "###3. 경로에 해당하는 문자열 1개를 입력 받아 그 안에 디렉토리 경로명과 파일명을 분리하여 리스트로 반환하는 함수 div_path(s)를 작성하시오.\n",
    "인자로 전달하는 문자열은 경로만 들어간다고 가정한다.\n",
    "각 디렉토리와 파일을 구분하는 문자는 '/'로 가정한다.\n",
    "반환하는 리스트의 첫번째 원소는 디렉토리이고 두번째 원소는 파일명이다.\n",
    "다음과 같은 실행 및 출력 결과가 도출되어야 한다.\n",
    "div_path('/usr/local/bin/python')\n",
    "['/usr/local/bin', 'python']\n",
    "div_path('/home/chulsoo/test.txt')\n",
    "['/home/chulsoo', 'test.txt']\n",
    "[참고] 리스트(l) 내에 새로운 정수값 (예를 들어 10)을 넣는 방법은 l.append(10) 이다."
   ]
  },
  {
   "cell_type": "code",
   "execution_count": 3,
   "metadata": {
    "collapsed": false
   },
   "outputs": [
    {
     "name": "stdout",
     "output_type": "stream",
     "text": [
      "['/usr/local/bin', 'python']\n",
      "['/home/chulsoo', 'test.txt']\n"
     ]
    }
   ],
   "source": [
    "def div_path(s):\n",
    "    A = [];\n",
    "    B = ['',''];\n",
    "    A = s.split('/')\n",
    "    size = len(A)   \n",
    "    i=1;\n",
    "    while(i<size-1):\n",
    "        B[0] = B[0]+'/'+A[i];\n",
    "        i = i+1;\n",
    "        \n",
    "    B[1] = A[size-1];\n",
    "    print B;      \n",
    "                                                                                                \n",
    "div_path('/usr/local/bin/python')\n",
    "div_path('/home/chulsoo/test.txt')"
   ]
  },
  {
   "cell_type": "markdown",
   "metadata": {},
   "source": [
    "먼저 div_path로 위와같은 경로를 입력받는다. 그리고 나서 A라는 빈리스트를 만들어 경로의 문자열을 split('/') 이라는 함수로 '/'로 구분하여 각각 문자열로 리스트에 넣어준다. 그렇게되면 첫번째 '/'가 4개가되면 첫번째 공백문자를 포함하여 총 5개의 문자열로된 리스트가 만들어진다. 그리고나서 B라는 공백리스트에 각각 경로와 파일명이 입력될 자리를 마련해준다음, while문을 이용하여 A리스트에 마지막 문자열은 빼고 '/'로 이어준다. 그리고 B 리스트의 첫번째 값에 넣어주고, B 리스트의 두번째 값에는 파일명에 해당되는 마지막 문자열을 넣어주어서 출력을 했다.  "
   ]
  },
  {
   "cell_type": "markdown",
   "metadata": {},
   "source": [
    "###4. 두 개의 리스트를 인자로 받아서 그 두 개의 리스트에 대한 '합집합'을 반환하는 함수 list_union(lista, listb)를 작성하시오.\n",
    "인자로 전달하는 리스트 2 개에는 정수값만 들어간다고 가정하자.\n",
    "함수 내에서 새로운 리스트를 만들어 그 리스트 내에 인자로 받은 두 리스트의 모든 원소를 넣어 반환한다.\n",
    "반환하는 리스트에는 절대로 중복된 원소가 들어 있으면 안된다 (집합의 조건).\n",
    "반환하는 리스트는 정렬이 되어 있어야 한다."
   ]
  },
  {
   "cell_type": "code",
   "execution_count": 12,
   "metadata": {
    "collapsed": false
   },
   "outputs": [
    {
     "name": "stdout",
     "output_type": "stream",
     "text": [
      "[1, 2, 3, 4]\n",
      "[-10, -5, -1, 0, 9, 100]\n",
      "[0, 1, 2]\n"
     ]
    }
   ],
   "source": [
    "def list_union(lista, listb):\n",
    "    L = [];\n",
    "    L = lista\n",
    "    b = len(listb);\n",
    "    i = 0;\n",
    "    while(i<b):\n",
    "        if(listb[i] in L):\n",
    "            i = i+1;            \n",
    "        else:\n",
    "            L.append(listb[i]);\n",
    "            i = i+1;             \n",
    "   \n",
    "    L.sort();\n",
    "    print L;\n",
    "    \n",
    "list_union([1, 2, 3], [1, 2, 4]);\n",
    "list_union([-10, -5, 0, -1], [100, 9, 0, 9]);\n",
    "list_union([0, 1, 2], [0, 1, 2]);"
   ]
  },
  {
   "cell_type": "markdown",
   "metadata": {},
   "source": [
    "list_union 함수를 다음과 같이 정의했다. L이라는 빈 리스트를 만들고, 첫번째 lista 의 리스트를 넣어준다. 그리고 b라는 변수에 두번째 인자인 listb의 리스트개수를 넣어주고, 반복문과 조건문을 이용하여 listb의 각 인덱스값이 가지고있는 게  L이라는 리스트에 없다면 append 함수를 이용하여 추가해준다.(이때 b의 값만큼 반복문을 수행한다) 그리고 sort()함수로 정렬을 해주어서 출력하였다."
   ]
  },
  {
   "cell_type": "markdown",
   "metadata": {},
   "source": [
    "###5. [프로젝트 오일러 문제 4]"
   ]
  },
  {
   "cell_type": "code",
   "execution_count": 1,
   "metadata": {
    "collapsed": false
   },
   "outputs": [
    {
     "name": "stdout",
     "output_type": "stream",
     "text": [
      "False\n",
      "906609\n"
     ]
    }
   ],
   "source": [
    "def myReverse(targetList):\n",
    "  for index in range(len(targetList) -1, -1, -1):\n",
    "    yield targetList[index]\n",
    "    \n",
    "def isSymmetryNum(targetNumber):\n",
    "  targetList=list(str(targetNumber))\n",
    "  result=list()\n",
    "  \n",
    "  for char in myReverse(targetList):\n",
    "    result.append(char)\n",
    "  \n",
    "  reversedNum=int(''.join(result))\n",
    "  \n",
    "  return targetNumber==reversedNum\n",
    "    \n",
    "result=isSymmetryNum(1234)\n",
    "print (result)\n",
    "\n",
    "target1=range(1,1000)\n",
    "target2=range(1,1000)\n",
    "biggestNum=0\n",
    "\n",
    "for n1 in target1:\n",
    "  for n2 in target2:\n",
    "    a=n1*n2\n",
    "    \n",
    "    if isSymmetryNum(a) and biggestNum < a :\n",
    "      biggestNum=a\n",
    "      \n",
    "      \n",
    "print(biggestNum)"
   ]
  },
  {
   "cell_type": "markdown",
   "metadata": {},
   "source": [
    "먼저 세자리 수를 곱해 만들 수 있는 가장 큰 대칭수를 얻기위해서는 어떠한 수를 뒤집어서 출력하였을때도 같다면 대칭수이다. 그래서 일단 targetList를 역으로 탐색하여 그 값을 반환하는 myReverse함수를 만들고, 그 함수를 탐색하면서 result 리스트에 추가를 하고 targetNumber과 그 역수가 같은지 비교하여 리턴해주는 함수를 만든다.\n",
    "그리고 가장큰 세자리수 999까지 값을 저장하는 2개의 리스트를 만들고 대칭수와 가장큰수를 비교하여 가장큰수를 구할 수 있다. "
   ]
  },
  {
   "cell_type": "markdown",
   "metadata": {},
   "source": [
    "###6. [프로젝트 오일러 문제 5]"
   ]
  },
  {
   "cell_type": "code",
   "execution_count": 2,
   "metadata": {
    "collapsed": false
   },
   "outputs": [
    {
     "name": "stdout",
     "output_type": "stream",
     "text": [
      "232792560\n"
     ]
    }
   ],
   "source": [
    "numList=range(1,21)\n",
    "\n",
    "num=1\n",
    "\n",
    "while 1:\n",
    "  isSearch=True\n",
    "  for n in numList:\n",
    "    r=num%n;\n",
    "\n",
    "    if r!=0:\n",
    "      isSearch=False\n",
    "      num+=1\n",
    "      break\n",
    "\n",
    "  if isSearch:\n",
    "    print(num)\n",
    "    break"
   ]
  },
  {
   "cell_type": "markdown",
   "metadata": {},
   "source": [
    "1부터 20까지의 어떤수로도 나누어 떨어지는 가장 작은수를 찾기위해 일단 numList에 range로 1부터 20까지의 수를 저장한다. 그다음 while문을 이용하여 isSearch라는 객체에 True를 참조시키고 for문으로 numList의 각 객체를 탐색하여 r에 num을 n으로 나눈 나머지를 넣고, 조건문을 이용하여 r이 나누어떨어지지않으면 num에 1을더하여 저장하고 빠져나온다. for문을 다 돌고나서 isSearch가 True이면 그 num을 출력한다."
   ]
  },
  {
   "cell_type": "markdown",
   "metadata": {},
   "source": [
    "###7. [프로젝트 오일러 문제 6]"
   ]
  },
  {
   "cell_type": "code",
   "execution_count": 4,
   "metadata": {
    "collapsed": false,
    "scrolled": false
   },
   "outputs": [
    {
     "name": "stdout",
     "output_type": "stream",
     "text": [
      "25164150\n"
     ]
    }
   ],
   "source": [
    "def sumofsquare(numberList):\n",
    "    result=sum([x**2 for x in numberList])\n",
    "    return result\n",
    "\n",
    "def squareofsum(numberList):\n",
    "    import math\n",
    "    result=math.pow(sum(numberList), 2)\n",
    "    return result\n",
    "    \n",
    "r = sumofsquare(range(1,101))\n",
    "r2 = int(squareofsum(range(1,101)))\n",
    "\n",
    "print(r2-r)"
   ]
  },
  {
   "cell_type": "markdown",
   "metadata": {},
   "source": [
    "제곱의합과 합의제곱을 구하기위해 각각을 구하는 함수를 정의해준다. 먼저 sumofsquare에는 numberList를 받아 제곱의합을 저장하여 반환하는 함수를 정의하고, squareofsum에는 합의 제곱을 계산하여 반환을 하는 함수를 정의한다. 그리고나서 range함수로 1부터 100까지의 자연수 리스트를 만들어 대입시킨다음 합의제곱과 제곱의합의 차를 계산하여 출력한다."
   ]
  },
  {
   "cell_type": "markdown",
   "metadata": {},
   "source": [
    "### 8. [Incremental Project] 웹 URL로 지정된 웹페이지를 문자열로 가져와 1) 모든 HTML 태그를 제외한 순수 텍스트 문자열만을 걸러내고, 2) 그 순수 텍스트 문자열 안에 존재하는 단어가 총 몇개인지 출력하는 프로그램을 작성하시오."
   ]
  },
  {
   "cell_type": "code",
   "execution_count": 2,
   "metadata": {
    "collapsed": false
   },
   "outputs": [
    {
     "name": "stdout",
     "output_type": "stream",
     "text": [
      " \n",
      "\n",
      "\n",
      "\n",
      "\n",
      "\n",
      "\n",
      "\n",
      "컴퓨터공학부 \n",
      "\n",
      "\n",
      "\n",
      "\n",
      "\n",
      "\n",
      "\n",
      "\n",
      "\n",
      "\n",
      "\n",
      "  \n",
      "    \n",
      "  \n",
      " \n",
      " \n",
      " \n",
      " \n",
      "\n",
      "  \n",
      "\n",
      "\n",
      "\n",
      "\n",
      "\n",
      "\n",
      "\n",
      "\n",
      " \n",
      "// \n",
      "\n",
      "\n",
      "\n",
      "\n",
      "\n",
      "\n",
      "\t\n",
      "\tSchoolfun - Study and Fun \n",
      "\t\n",
      "\t\n",
      "\t\n",
      "\t\t\n",
      "\t\n",
      "\t\n",
      "\t\t\n",
      "\t\t\t\n",
      "\n",
      "\n",
      "\n",
      "\t\n",
      "\t\t\n",
      "\t\t\t\n",
      "\t\t\t\t \n",
      "\t\t\t\t \n",
      "\t\t\t\t \n",
      "\t\t\t\n",
      "\t\t\t  \n",
      "\t\t\t\n",
      "\t\t\t\t    \n",
      "\t\t\t\t\t\t\t\t\t\t\n",
      "\t\t\t\t\n",
      "\t\t\t\t- \n",
      "\t\t\t\t\t\t\t\t\t\n",
      "\t\t\t\t\t       \n",
      "\t로그인 \n",
      "\t\n",
      "\t\t로그인 \n",
      "\t\t\n",
      "\t\t\n",
      "\t\t\n",
      "\t\t\t\t\n",
      "\t\t\t아이디 \t\t\t\t\t\t\t\t\t\t\t\t비밀번호 \n",
      "\t\t\t\n",
      "\t\t\t\n",
      "\t\t\t\t\n",
      "\t\t\t\t로그인 유지 \n",
      "\t\t\t\n",
      "\t\t\t브라우저를 닫더라도 로그인이 계속 유지될 수 있습니다. 로그인 유지 기능을 사용할 경우 다음 접속부터는 로그인할 필요가 없습니다. 단, 게임방, 학교 등 공공장소에서 이용 시 개인정보가 유출될 수 있으니 꼭 로그아웃을 해주세요. \n",
      "\t\t\n",
      "\t\t\n",
      "\t\t\n",
      "\t\t\t 회원가입  \n",
      "\t\t\t ID/PW 찾기  \n",
      "\t\t\n",
      "\t\n",
      "\n",
      "  \n",
      "\t\t\t\t\n",
      "\t\t\t\tIT 교육의 글로벌 메카! 한국기술교육대학교 컴퓨터공학부 \n",
      "\t\t\t\n",
      "\t\t\n",
      "\t\n",
      "\t\n",
      "\t\tClose \n",
      "\t\t\n",
      "\t\t\t\n",
      "\t\t\t\t \n",
      "\t\t\t\t \n",
      "\t\t\t\t \n",
      "\t\t\t\n",
      "\t\t\t\n",
      "\t\t\t\t\t\t\t\t\n",
      "\t\t\t\t\t\t\t\t\t\t소개 \n",
      "\t\t\t\t\t\t\t\t\t\t\n",
      "\t\t\t\t\n",
      "\t\t\t\t\t\t\t\t\t\t\t\t\t\n",
      "\t\t\t\t\t\t\t\t\t\t구성원소개 \n",
      "\t\t\t\t\t\t\t\t\t\t\n",
      "\t\t\t\t\n",
      "\t\t\t\t\t\t\t\t\t\t\t\t\t\n",
      "\t\t\t\t\t\t\t\t\t\t학사안내 \n",
      "\t\t\t\t\t\t\t\t\t\t\n",
      "\t\t\t\t\n",
      "\t\t\t\t\t\t\t\t\t\t\t\t\t\n",
      "\t\t\t\t\t\t\t\t\t\t입학 \n",
      "\t\t\t\t\t\n",
      "                          학부  \n",
      "                          대학원  \n",
      "                     \n",
      "\t\t\t\t\t\t\t\t\t\t\n",
      "\t\t\t\t\n",
      "\t\t\t\t\t\t\t\t\t\t\t\t\t\n",
      "\t\t\t\t\t\t\t\t\t\t학부광장 \n",
      "\t\t\t\t\t\t\t\t\t\t\n",
      "\t\t\t\t\n",
      "\t\t\t\t\t\t\t\t\t\t\t\t\t\n",
      "\t\t\t\t\t\t\t\t\t\t자료실 \n",
      "\t\t\t\t\t\t\t\t\t\t\n",
      "\t\t\t\t\n",
      "\t\t\t\t\t\t\t\t\t\t\t\t\t\n",
      "\t\t\t\t\t\t\t\t\t\t대학원 \n",
      "\t\t\t\t\t\t\t\t\t\t\n",
      "\t\t\t\t\n",
      "\t\t\t\t\t\t\t\t\t\t\t\t\t\n",
      "\t\t\t\t\t\t\t\t\t\t공학교육인증 \n",
      "\t\t\t\t\t\t\t\t\t\t\n",
      "\t\t\t\t\n",
      "\t\t\t\t\t\t\t\t\t\t\t\t\t\n",
      "\t\t\t\t\t\t\t\t\t\t \n",
      "\t\t\t\t\t\t\t\t\t\t\n",
      "\t\t\t\t\n",
      "\t\t\t\t\t\t\t\t\t\t\t\t\t\n",
      "\t\t\t\n",
      "                        \t\t\tRegistration \n",
      "                        \t\t\n",
      "\t\n",
      "      \n",
      "\t        \t        \n",
      "\n",
      "\n",
      "     \n",
      "         \n",
      "               컴퓨터공학부  \n",
      "                 School of Computer Science and Engineering \n",
      "                 \n",
      "             \n",
      "             \n",
      "                  IT 융합소프트웨어 인력양성사업  \n",
      "                 CK (Creative Korea)-I \n",
      "                 \n",
      "             \n",
      "             \n",
      "                  교육역량강화사업 온라인 컨텐츠  \n",
      "                 Online Contents for Education Capability Empowerment \n",
      "                 \n",
      "             \n",
      "         \n",
      "     \n",
      "\t\n",
      "         \n",
      "         \n",
      "         \n",
      "             \n",
      "                 IT 교육의 글로벌 메카 \n",
      "                 한국기술교육대학교 컴퓨터공학부 홈페이지에 오신 것을 환영합니다! \n",
      "             \n",
      "         \n",
      "     \n",
      "     \n",
      "         \n",
      "         \n",
      "\t\n",
      "             \n",
      "                 IT 융합소프트웨어 인력양성사업 \n",
      "                 글로벌 수준의 IT전문인력 양성 \n",
      "IT융합분야에 대한 국제적인 경쟁력 고취 \n",
      "                 바로가기 \n",
      "             \n",
      "         \n",
      "     \n",
      "     \n",
      "         \n",
      "         \n",
      "\t\n",
      "             \n",
      "                 교육역량강화사업 컨텐츠 \n",
      "                 교육역량강화사업 온라인 컨텐츠를 소개합니다. \n",
      "                 바로가기 \n",
      "             \n",
      "         \n",
      "     \n",
      "\n",
      "\n",
      "\n",
      "     \t\t\n",
      "       \n",
      "\n",
      "\t\n",
      "                  공지사항  \n",
      "     \n",
      "                     \n",
      "                                                                                          [특성화] 토익, 오픽 강좌 수요조사 공고  \n",
      "                                                                                                                             2015-10-06 16:41 16:41 \n",
      "                                     \n",
      "                 \n",
      "                                                                                          [특성화] IT융합 개도국 해외기술지원봉사 참가자 모집...  \n",
      "                                                                                                                             2015-10-05 16:38 16:38 \n",
      "                                     \n",
      "                 \n",
      "                                                                                          [특성화] 장비대여 안내  \n",
      "                                                                                                                             2015-10-05 15:28 15:28 \n",
      "                                     \n",
      "                 \n",
      "                                                                                          제4회 TOPCIT 정기평가  \n",
      "                                                                                                                             2015-10-05 14:56 14:56 \n",
      "                                     \n",
      "                 \n",
      "                                                                                          [특성화] 국제게임전시회 G-star 2015 참관 안내  \n",
      "                                                                                                                             2015-10-05 11:51 11:51 \n",
      "                                     \n",
      "             \n",
      "             \n",
      "\n",
      "\n",
      "    \n",
      "\n",
      "\t\n",
      "                  자유게시판  \n",
      "     \n",
      "                     \n",
      "                                                                                          (주) 엔에스이 에서 개발자를 모집합니다.  \n",
      "                                                                                                                             2015-09-30 13:30 13:30 \n",
      "                                     \n",
      "                 \n",
      "                                                                                          졸업작품 전시회 컴퓨터공학부 인기상 투표 이벤트  \n",
      "                                                                                                                             2015-09-25 01:21 01:21 \n",
      "                                     \n",
      "                 \n",
      "                                                                                          삼성 대학생 프로그래밍 경진대회  \n",
      "                                                                                                                             2015-09-15 11:17 11:17 \n",
      "                                     \n",
      "                 \n",
      "                                                                                          2015년 4차 모의토익 지원  \n",
      "                                                                                                                             2015-09-09 23:34 23:34 \n",
      "                                     \n",
      "                 \n",
      "                                                                                          난 괜찮아, 돌아가면 되지~  \n",
      "                                                                                                                             2015-09-09 15:51 15:51 \n",
      "                                     \n",
      "             \n",
      "             \n",
      "\n",
      "\n",
      "    \n",
      "\n",
      "\t\n",
      "                  취업게시판  \n",
      "     \n",
      "                     \n",
      "                                                                                          [특성화] (주)KMW  인턴사원 모집공고  \n",
      "                                                                                                                             2015-09-23 14:31 14:31 \n",
      "                                     \n",
      "                 \n",
      "                                                                                          ㈜인젠트 기술연구소 전문연구요원 모집  \n",
      "                                                                                                                             2015-09-14 11:54 11:54 \n",
      "                                     \n",
      "                 \n",
      "                                                                                          펜타인 2015년도 신입사원 채용공고  \n",
      "                                                                                                                             2015-09-03 16:16 16:16 \n",
      "                                     \n",
      "                 \n",
      "                                                                                          LIG인베니아 (코스닥상장 LIG그룹사 디스플레이장비전...  \n",
      "                                                                                                                             2015-09-03 14:01 14:01 \n",
      "                                     \n",
      "                 \n",
      "                                                                                          ㈜ 한울 소프트웨어 개발자  \n",
      "                                                                                                                             2015-06-18 10:28 10:28 \n",
      "                                     \n",
      "             \n",
      "             \n",
      "\n",
      "\n",
      "    \n",
      "\n",
      "\t\n",
      "                  VENTURESQUARE  \n",
      "     \n",
      "                     \n",
      "                                                                                          경기창조경제혁신센터,  IoT 분야 보육기업 4개사 추가...  \n",
      "                                                                                      \n",
      "                                                                                     2015-10-06 16:37 16:37 \n",
      "                                     \n",
      "                 \n",
      "                                                                                          [펀다 매거진] 핀테크, 금융과 기술의 만남 #5  \n",
      "                                                                                      \n",
      "                                                                                     2015-10-06 15:25 15:25 \n",
      "                                     \n",
      "                 \n",
      "                                                                                          업계 최고 슈퍼 멘토에게 배우자 인터랙티브 교육 ‘클...  \n",
      "                                                                                      \n",
      "                                                                                     2015-10-06 15:12 15:12 \n",
      "                                     \n",
      "                 \n",
      "                                                                                          우리에게 없는건 시간이 아니다  \n",
      "                                                                                      \n",
      "                                                                                     2015-10-06 14:57 14:57 \n",
      "                                     \n",
      "                 \n",
      "                                                                                          [코리안 스타트업을 위한 글로벌 여행 티켓] 87편.스타...  \n",
      "                                                                                      \n",
      "                                                                                     2015-10-06 14:50 14:50 \n",
      "                                     \n",
      "             \n",
      "             \n",
      "\n",
      "\n",
      "    \n",
      "\n",
      "\t\n",
      "                  전자신문  \n",
      "     \n",
      "                     \n",
      "                                                                                          전자신문 아이티어 1기 “생생한 IT 소식 전하겠습니다”  \n",
      "                                                                                      \n",
      "                                                                                     2015-10-06 19:51 19:51 \n",
      "                                     \n",
      "                 \n",
      "                                                                                          세계 최초 3밴드 LTE-A 공방 일단락···KT, SKT 상대 소...  \n",
      "                                                                                      \n",
      "                                                                                     2015-10-06 19:00 19:00 \n",
      "                                     \n",
      "                 \n",
      "                                                                                          [ET단상]주파수할당, 사회 효율성을 핵심 가치로  \n",
      "                                                                                      \n",
      "                                                                                     2015-10-06 18:00 18:00 \n",
      "                                     \n",
      "                 \n",
      "                                                                                          [해설]2.1㎓ 경매 `3사3색` 주장...업계 \"경매방식 명...  \n",
      "                                                                                      \n",
      "                                                                                     2015-10-06 18:00 18:00 \n",
      "                                     \n",
      "                 \n",
      "                                                                                          [ET단상]방송 콘텐츠 글로벌 유통 활성화를 위한 전략  \n",
      "                                                                                      \n",
      "                                                                                     2015-10-06 18:00 18:00 \n",
      "                                     \n",
      "             \n",
      "             \n",
      "\n",
      "\n",
      "    \n",
      "\n",
      "\t\n",
      "                  RE/CODE  \n",
      "     \n",
      "                     \n",
      "                                                                                          Bill Gurley on Tech Bubble: I’m a Pragmatist, ...  \n",
      "                                                                                      \n",
      "                                                                                     2015-10-07 02:39 02:39 \n",
      "                                     \n",
      "                 \n",
      "                                                                                          Verizon Will Support Samsung Pay in a ‘Future ...  \n",
      "                                                                                      \n",
      "                                                                                     2015-10-07 02:18 02:18 \n",
      "                                     \n",
      "                 \n",
      "                                                                                          Uber Users Are Waiting to Buy Cars Because of ...  \n",
      "                                                                                      \n",
      "                                                                                     2015-10-07 02:14 02:14 \n",
      "                                     \n",
      "                 \n",
      "                                                                                          Microsoft Unveils Surface Laptop, Updated Lumi...  \n",
      "                                                                                      \n",
      "                                                                                     2015-10-07 01:14 01:14 \n",
      "                                     \n",
      "                 \n",
      "                                                                                          Microsoft Now Taking Applications for $3,000 H...  \n",
      "                                                                                      \n",
      "                                                                                     2015-10-06 23:55 23:55 \n",
      "                                     \n",
      "             \n",
      "             \n",
      "\n",
      "\n",
      "      \n",
      "\n",
      "\n",
      "\n",
      "     \n",
      "         Back to Top \n",
      "     \n",
      "     \n",
      "         Leading Together  for  Brighter Future \n",
      "     \n",
      "    - \n",
      "     \n",
      "         \n",
      "             \n",
      "                 \n",
      "                     \n",
      "                         Quick Navigation \n",
      "                         \n",
      "                              한국기술교육대학교 홈페이지  \n",
      "                              한국기술교육대학교 WEBMAIL  \n",
      "                              한국기술교육대학교 온라인 평생교육원  \n",
      "                              교육역량강화사업 온라인 컨텐츠  \n",
      "                              컴퓨터공학부 포트폴리오  - \n",
      "                              IT 융합소프트웨어 인력양성사업  \n",
      "                         \n",
      "                     \n",
      "                 \n",
      "             \n",
      "             \n",
      "                 \n",
      "                     \n",
      "                         Campus Location \n",
      "                         \n",
      "\t                           \n",
      "                     \n",
      "                 \n",
      "             \n",
      "\n",
      "                 \n",
      "                     Contact CSE \n",
      "                 충청남도 천안시 동남구 병천면 충절로 1600 한국기술교육대학교 컴퓨터공학부 학과사무실  TEL (041) 560 1460~1461  FAX (041) 560 1462\n",
      "                 \n",
      "                      Facebook  \n",
      "                      Twitter  \n",
      "                      Google Plus  \n",
      "                      Linkedin  \n",
      " Youtube  \n",
      "                      Flickr  - \n",
      "                 \n",
      "                 \n",
      "             \n",
      "         \n",
      "     \n",
      "     \n",
      "         \n",
      "               \n",
      "             (31253) 충청남도 천안시 동남구 병천면 충절로 1600 (가전리, 한국기술교육대학교) 컴퓨터공학부  \n",
      "             Copyright © 2015. All rights reserved \n",
      "         \n",
      "     \n",
      "\n",
      "\n",
      "\n",
      "\n",
      "\n",
      " \n",
      "                    \n",
      "\n"
     ]
    }
   ],
   "source": [
    "# -*- coding: utf-8 -*-\n",
    "import urllib2\n",
    "source = urllib2.urlopen(\"http://cse.kut.ac.kr/\").read()\n",
    "resource = source.strip();\n",
    "t = resource.split('>');\n",
    "a = 0;\n",
    "i= 0;\n",
    "while(i<len(t)):\n",
    "    a = t[i].find('<');\n",
    "    if(a== -1 and a==0):\n",
    "        break;   \n",
    "    else:\n",
    "        print t[i][0:a],;\n",
    "        i = i+1;"
   ]
  },
  {
   "cell_type": "markdown",
   "metadata": {},
   "source": [
    "일단 HTML소스를 분석해본결과 순수텍스트문자열은 <태그>와<태그> 사이에 위치하는 것을 알았다. 일단 strip을 이용하여 공백을 없애고,split함수를 이용하여 '>'를 기준으로 분리하여 리스트에 저장한 다음 그 크기를 len으로 구하였다.  while문을 이용하여 그 크기만큼 비교를하며 '<'문자가 발견되면 슬라이싱으로 그 전까지 출력하게하였다.\n",
    "그런데 공백만 많은 문자열까지 출력되었고,\n",
    "####아래와같이 B라는 문자열 객체를 만들어서 split()으로 공백을 제거해서 C라는 리스트에 넣어서 출력을 했지만, 한글이 이상한문자로 깨져서 나오면서 해결하지 못하였습니다. 많은 시간투자에도 불구하고 여기까지밖에 해결하지 못하였습니다.#### "
   ]
  },
  {
   "cell_type": "code",
   "execution_count": 4,
   "metadata": {
    "collapsed": false
   },
   "outputs": [
    {
     "name": "stdout",
     "output_type": "stream",
     "text": [
      "['\\xec\\xbb\\xb4\\xed\\x93\\xa8\\xed\\x84\\xb0\\xea\\xb3\\xb5\\xed\\x95\\x99\\xeb\\xb6\\x80', '//', 'Schoolfun', '-', 'Study', 'and', 'Fun', '-', '\\xeb\\xa1\\x9c\\xea\\xb7\\xb8\\xec\\x9d\\xb8', '\\xeb\\xa1\\x9c\\xea\\xb7\\xb8\\xec\\x9d\\xb8', '\\xec\\x95\\x84\\xec\\x9d\\xb4\\xeb\\x94\\x94', '\\xeb\\xb9\\x84\\xeb\\xb0\\x80\\xeb\\xb2\\x88\\xed\\x98\\xb8', '\\xeb\\xa1\\x9c\\xea\\xb7\\xb8\\xec\\x9d\\xb8', '\\xec\\x9c\\xa0\\xec\\xa7\\x80', '\\xeb\\xb8\\x8c\\xeb\\x9d\\xbc\\xec\\x9a\\xb0\\xec\\xa0\\x80\\xeb\\xa5\\xbc', '\\xeb\\x8b\\xab\\xeb\\x8d\\x94\\xeb\\x9d\\xbc\\xeb\\x8f\\x84', '\\xeb\\xa1\\x9c\\xea\\xb7\\xb8\\xec\\x9d\\xb8\\xec\\x9d\\xb4', '\\xea\\xb3\\x84\\xec\\x86\\x8d', '\\xec\\x9c\\xa0\\xec\\xa7\\x80\\xeb\\x90\\xa0', '\\xec\\x88\\x98', '\\xec\\x9e\\x88\\xec\\x8a\\xb5\\xeb\\x8b\\x88\\xeb\\x8b\\xa4.', '\\xeb\\xa1\\x9c\\xea\\xb7\\xb8\\xec\\x9d\\xb8', '\\xec\\x9c\\xa0\\xec\\xa7\\x80', '\\xea\\xb8\\xb0\\xeb\\x8a\\xa5\\xec\\x9d\\x84', '\\xec\\x82\\xac\\xec\\x9a\\xa9\\xed\\x95\\xa0', '\\xea\\xb2\\xbd\\xec\\x9a\\xb0', '\\xeb\\x8b\\xa4\\xec\\x9d\\x8c', '\\xec\\xa0\\x91\\xec\\x86\\x8d\\xeb\\xb6\\x80\\xed\\x84\\xb0\\xeb\\x8a\\x94', '\\xeb\\xa1\\x9c\\xea\\xb7\\xb8\\xec\\x9d\\xb8\\xed\\x95\\xa0', '\\xed\\x95\\x84\\xec\\x9a\\x94\\xea\\xb0\\x80', '\\xec\\x97\\x86\\xec\\x8a\\xb5\\xeb\\x8b\\x88\\xeb\\x8b\\xa4.', '\\xeb\\x8b\\xa8,', '\\xea\\xb2\\x8c\\xec\\x9e\\x84\\xeb\\xb0\\xa9,', '\\xed\\x95\\x99\\xea\\xb5\\x90', '\\xeb\\x93\\xb1', '\\xea\\xb3\\xb5\\xea\\xb3\\xb5\\xec\\x9e\\xa5\\xec\\x86\\x8c\\xec\\x97\\x90\\xec\\x84\\x9c', '\\xec\\x9d\\xb4\\xec\\x9a\\xa9', '\\xec\\x8b\\x9c', '\\xea\\xb0\\x9c\\xec\\x9d\\xb8\\xec\\xa0\\x95\\xeb\\xb3\\xb4\\xea\\xb0\\x80', '\\xec\\x9c\\xa0\\xec\\xb6\\x9c\\xeb\\x90\\xa0', '\\xec\\x88\\x98', '\\xec\\x9e\\x88\\xec\\x9c\\xbc\\xeb\\x8b\\x88', '\\xea\\xbc\\xad', '\\xeb\\xa1\\x9c\\xea\\xb7\\xb8\\xec\\x95\\x84\\xec\\x9b\\x83\\xec\\x9d\\x84', '\\xed\\x95\\xb4\\xec\\xa3\\xbc\\xec\\x84\\xb8\\xec\\x9a\\x94.', '\\xed\\x9a\\x8c\\xec\\x9b\\x90\\xea\\xb0\\x80\\xec\\x9e\\x85', 'ID/PW', '\\xec\\xb0\\xbe\\xea\\xb8\\xb0', 'IT', '\\xea\\xb5\\x90\\xec\\x9c\\xa1\\xec\\x9d\\x98', '\\xea\\xb8\\x80\\xeb\\xa1\\x9c\\xeb\\xb2\\x8c', '\\xeb\\xa9\\x94\\xec\\xb9\\xb4!\\xed\\x95\\x9c\\xea\\xb5\\xad\\xea\\xb8\\xb0\\xec\\x88\\xa0\\xea\\xb5\\x90\\xec\\x9c\\xa1\\xeb\\x8c\\x80\\xed\\x95\\x99\\xea\\xb5\\x90', '\\xec\\xbb\\xb4\\xed\\x93\\xa8\\xed\\x84\\xb0\\xea\\xb3\\xb5\\xed\\x95\\x99\\xeb\\xb6\\x80', 'Close', '\\xec\\x86\\x8c\\xea\\xb0\\x9c', '\\xea\\xb5\\xac\\xec\\x84\\xb1\\xec\\x9b\\x90\\xec\\x86\\x8c\\xea\\xb0\\x9c', '\\xed\\x95\\x99\\xec\\x82\\xac\\xec\\x95\\x88\\xeb\\x82\\xb4', '\\xec\\x9e\\x85\\xed\\x95\\x99', '\\xed\\x95\\x99\\xeb\\xb6\\x80', '\\xeb\\x8c\\x80\\xed\\x95\\x99\\xec\\x9b\\x90', '\\xed\\x95\\x99\\xeb\\xb6\\x80\\xea\\xb4\\x91\\xec\\x9e\\xa5', '\\xec\\x9e\\x90\\xeb\\xa3\\x8c\\xec\\x8b\\xa4', '\\xeb\\x8c\\x80\\xed\\x95\\x99\\xec\\x9b\\x90', '\\xea\\xb3\\xb5\\xed\\x95\\x99\\xea\\xb5\\x90\\xec\\x9c\\xa1\\xec\\x9d\\xb8\\xec\\xa6\\x9d', 'Registration', '\\xec\\xbb\\xb4\\xed\\x93\\xa8\\xed\\x84\\xb0\\xea\\xb3\\xb5\\xed\\x95\\x99\\xeb\\xb6\\x80', 'School', 'of', 'Computer', 'Science', 'and', 'Engineering', 'IT', '\\xec\\x9c\\xb5\\xed\\x95\\xa9\\xec\\x86\\x8c\\xed\\x94\\x84\\xed\\x8a\\xb8\\xec\\x9b\\xa8\\xec\\x96\\xb4', '\\xec\\x9d\\xb8\\xeb\\xa0\\xa5\\xec\\x96\\x91\\xec\\x84\\xb1\\xec\\x82\\xac\\xec\\x97\\x85', 'CK', '(Creative', 'Korea)-I', '\\xea\\xb5\\x90\\xec\\x9c\\xa1\\xec\\x97\\xad\\xeb\\x9f\\x89\\xea\\xb0\\x95\\xed\\x99\\x94\\xec\\x82\\xac\\xec\\x97\\x85', '\\xec\\x98\\xa8\\xeb\\x9d\\xbc\\xec\\x9d\\xb8', '\\xec\\xbb\\xa8\\xed\\x85\\x90\\xec\\xb8\\xa0', 'Online', 'Contents', 'for', 'Education', 'Capability', 'Empowerment', 'IT', '\\xea\\xb5\\x90\\xec\\x9c\\xa1\\xec\\x9d\\x98', '\\xea\\xb8\\x80\\xeb\\xa1\\x9c\\xeb\\xb2\\x8c', '\\xeb\\xa9\\x94\\xec\\xb9\\xb4', '\\xed\\x95\\x9c\\xea\\xb5\\xad\\xea\\xb8\\xb0\\xec\\x88\\xa0\\xea\\xb5\\x90\\xec\\x9c\\xa1\\xeb\\x8c\\x80\\xed\\x95\\x99\\xea\\xb5\\x90', '\\xec\\xbb\\xb4\\xed\\x93\\xa8\\xed\\x84\\xb0\\xea\\xb3\\xb5\\xed\\x95\\x99\\xeb\\xb6\\x80', '\\xed\\x99\\x88\\xed\\x8e\\x98\\xec\\x9d\\xb4\\xec\\xa7\\x80\\xec\\x97\\x90', '\\xec\\x98\\xa4\\xec\\x8b\\xa0', '\\xea\\xb2\\x83\\xec\\x9d\\x84\\xed\\x99\\x98\\xec\\x98\\x81\\xed\\x95\\xa9\\xeb\\x8b\\x88\\xeb\\x8b\\xa4!', 'IT', '\\xec\\x9c\\xb5\\xed\\x95\\xa9\\xec\\x86\\x8c\\xed\\x94\\x84\\xed\\x8a\\xb8\\xec\\x9b\\xa8\\xec\\x96\\xb4', '\\xec\\x9d\\xb8\\xeb\\xa0\\xa5\\xec\\x96\\x91\\xec\\x84\\xb1\\xec\\x82\\xac\\xec\\x97\\x85', '\\xea\\xb8\\x80\\xeb\\xa1\\x9c\\xeb\\xb2\\x8c', '\\xec\\x88\\x98\\xec\\xa4\\x80\\xec\\x9d\\x98', 'IT\\xec\\xa0\\x84\\xeb\\xac\\xb8\\xec\\x9d\\xb8\\xeb\\xa0\\xa5', '\\xec\\x96\\x91\\xec\\x84\\xb1', 'IT\\xec\\x9c\\xb5\\xed\\x95\\xa9\\xeb\\xb6\\x84\\xec\\x95\\xbc\\xec\\x97\\x90', '\\xeb\\x8c\\x80\\xed\\x95\\x9c', '\\xea\\xb5\\xad\\xec\\xa0\\x9c\\xec\\xa0\\x81\\xec\\x9d\\xb8', '\\xea\\xb2\\xbd\\xec\\x9f\\x81\\xeb\\xa0\\xa5', '\\xea\\xb3\\xa0\\xec\\xb7\\xa8', '\\xeb\\xb0\\x94\\xeb\\xa1\\x9c\\xea\\xb0\\x80\\xea\\xb8\\xb0', '\\xea\\xb5\\x90\\xec\\x9c\\xa1\\xec\\x97\\xad\\xeb\\x9f\\x89\\xea\\xb0\\x95\\xed\\x99\\x94\\xec\\x82\\xac\\xec\\x97\\x85', '\\xec\\xbb\\xa8\\xed\\x85\\x90\\xec\\xb8\\xa0', '\\xea\\xb5\\x90\\xec\\x9c\\xa1\\xec\\x97\\xad\\xeb\\x9f\\x89\\xea\\xb0\\x95\\xed\\x99\\x94\\xec\\x82\\xac\\xec\\x97\\x85', '\\xec\\x98\\xa8\\xeb\\x9d\\xbc\\xec\\x9d\\xb8', '\\xec\\xbb\\xa8\\xed\\x85\\x90\\xec\\xb8\\xa0\\xeb\\xa5\\xbc', '\\xec\\x86\\x8c\\xea\\xb0\\x9c\\xed\\x95\\xa9\\xeb\\x8b\\x88\\xeb\\x8b\\xa4.', '\\xeb\\xb0\\x94\\xeb\\xa1\\x9c\\xea\\xb0\\x80\\xea\\xb8\\xb0', '\\xea\\xb3\\xb5\\xec\\xa7\\x80\\xec\\x82\\xac\\xed\\x95\\xad', '[\\xed\\x8a\\xb9\\xec\\x84\\xb1\\xed\\x99\\x94]', '\\xed\\x86\\xa0\\xec\\x9d\\xb5,', '\\xec\\x98\\xa4\\xed\\x94\\xbd', '\\xea\\xb0\\x95\\xec\\xa2\\x8c', '\\xec\\x88\\x98\\xec\\x9a\\x94\\xec\\xa1\\xb0\\xec\\x82\\xac', '\\xea\\xb3\\xb5\\xea\\xb3\\xa0', '2015-10-06', '16:41', '16:41', '[\\xed\\x8a\\xb9\\xec\\x84\\xb1\\xed\\x99\\x94]', 'IT\\xec\\x9c\\xb5\\xed\\x95\\xa9', '\\xea\\xb0\\x9c\\xeb\\x8f\\x84\\xea\\xb5\\xad', '\\xed\\x95\\xb4\\xec\\x99\\xb8\\xea\\xb8\\xb0\\xec\\x88\\xa0\\xec\\xa7\\x80\\xec\\x9b\\x90\\xeb\\xb4\\x89\\xec\\x82\\xac', '\\xec\\xb0\\xb8\\xea\\xb0\\x80\\xec\\x9e\\x90', '\\xeb\\xaa\\xa8\\xec\\xa7\\x91...', '2015-10-05', '16:38', '16:38', '[\\xed\\x8a\\xb9\\xec\\x84\\xb1\\xed\\x99\\x94]', '\\xec\\x9e\\xa5\\xeb\\xb9\\x84\\xeb\\x8c\\x80\\xec\\x97\\xac', '\\xec\\x95\\x88\\xeb\\x82\\xb4', '2015-10-05', '15:28', '15:28', '\\xec\\xa0\\x9c4\\xed\\x9a\\x8c', 'TOPCIT', '\\xec\\xa0\\x95\\xea\\xb8\\xb0\\xed\\x8f\\x89\\xea\\xb0\\x80', '2015-10-05', '14:56', '14:56', '[\\xed\\x8a\\xb9\\xec\\x84\\xb1\\xed\\x99\\x94]', '\\xea\\xb5\\xad\\xec\\xa0\\x9c\\xea\\xb2\\x8c\\xec\\x9e\\x84\\xec\\xa0\\x84\\xec\\x8b\\x9c\\xed\\x9a\\x8c', 'G-star', '2015', '\\xec\\xb0\\xb8\\xea\\xb4\\x80', '\\xec\\x95\\x88\\xeb\\x82\\xb4', '2015-10-05', '11:51', '11:51', '\\xec\\x9e\\x90\\xec\\x9c\\xa0\\xea\\xb2\\x8c\\xec\\x8b\\x9c\\xed\\x8c\\x90', '(\\xec\\xa3\\xbc)', '\\xec\\x97\\x94\\xec\\x97\\x90\\xec\\x8a\\xa4\\xec\\x9d\\xb4', '\\xec\\x97\\x90\\xec\\x84\\x9c', '\\xea\\xb0\\x9c\\xeb\\xb0\\x9c\\xec\\x9e\\x90\\xeb\\xa5\\xbc', '\\xeb\\xaa\\xa8\\xec\\xa7\\x91\\xed\\x95\\xa9\\xeb\\x8b\\x88\\xeb\\x8b\\xa4.', '2015-09-30', '13:30', '13:30', '\\xec\\xa1\\xb8\\xec\\x97\\x85\\xec\\x9e\\x91\\xed\\x92\\x88', '\\xec\\xa0\\x84\\xec\\x8b\\x9c\\xed\\x9a\\x8c', '\\xec\\xbb\\xb4\\xed\\x93\\xa8\\xed\\x84\\xb0\\xea\\xb3\\xb5\\xed\\x95\\x99\\xeb\\xb6\\x80', '\\xec\\x9d\\xb8\\xea\\xb8\\xb0\\xec\\x83\\x81', '\\xed\\x88\\xac\\xed\\x91\\x9c', '\\xec\\x9d\\xb4\\xeb\\xb2\\xa4\\xed\\x8a\\xb8', '2015-09-25', '01:21', '01:21', '\\xec\\x82\\xbc\\xec\\x84\\xb1', '\\xeb\\x8c\\x80\\xed\\x95\\x99\\xec\\x83\\x9d', '\\xed\\x94\\x84\\xeb\\xa1\\x9c\\xea\\xb7\\xb8\\xeb\\x9e\\x98\\xeb\\xb0\\x8d', '\\xea\\xb2\\xbd\\xec\\xa7\\x84\\xeb\\x8c\\x80\\xed\\x9a\\x8c', '2015-09-15', '11:17', '11:17', '2015\\xeb\\x85\\x84', '4\\xec\\xb0\\xa8', '\\xeb\\xaa\\xa8\\xec\\x9d\\x98\\xed\\x86\\xa0\\xec\\x9d\\xb5', '\\xec\\xa7\\x80\\xec\\x9b\\x90', '2015-09-09', '23:34', '23:34', '\\xeb\\x82\\x9c', '\\xea\\xb4\\x9c\\xec\\xb0\\xae\\xec\\x95\\x84,', '\\xeb\\x8f\\x8c\\xec\\x95\\x84\\xea\\xb0\\x80\\xeb\\xa9\\xb4', '\\xeb\\x90\\x98\\xec\\xa7\\x80~', '2015-09-09', '15:51', '15:51', '\\xec\\xb7\\xa8\\xec\\x97\\x85\\xea\\xb2\\x8c\\xec\\x8b\\x9c\\xed\\x8c\\x90', '[\\xed\\x8a\\xb9\\xec\\x84\\xb1\\xed\\x99\\x94]', '(\\xec\\xa3\\xbc)KMW', '\\xec\\x9d\\xb8\\xed\\x84\\xb4\\xec\\x82\\xac\\xec\\x9b\\x90', '\\xeb\\xaa\\xa8\\xec\\xa7\\x91\\xea\\xb3\\xb5\\xea\\xb3\\xa0', '2015-09-23', '14:31', '14:31', '\\xe3\\x88\\x9c\\xec\\x9d\\xb8\\xec\\xa0\\xa0\\xed\\x8a\\xb8', '\\xea\\xb8\\xb0\\xec\\x88\\xa0\\xec\\x97\\xb0\\xea\\xb5\\xac\\xec\\x86\\x8c', '\\xec\\xa0\\x84\\xeb\\xac\\xb8\\xec\\x97\\xb0\\xea\\xb5\\xac\\xec\\x9a\\x94\\xec\\x9b\\x90', '\\xeb\\xaa\\xa8\\xec\\xa7\\x91', '2015-09-14', '11:54', '11:54', '\\xed\\x8e\\x9c\\xed\\x83\\x80\\xec\\x9d\\xb8', '2015\\xeb\\x85\\x84\\xeb\\x8f\\x84', '\\xec\\x8b\\xa0\\xec\\x9e\\x85\\xec\\x82\\xac\\xec\\x9b\\x90', '\\xec\\xb1\\x84\\xec\\x9a\\xa9\\xea\\xb3\\xb5\\xea\\xb3\\xa0', '2015-09-03', '16:16', '16:16', 'LIG\\xec\\x9d\\xb8\\xeb\\xb2\\xa0\\xeb\\x8b\\x88\\xec\\x95\\x84', '(\\xec\\xbd\\x94\\xec\\x8a\\xa4\\xeb\\x8b\\xa5\\xec\\x83\\x81\\xec\\x9e\\xa5', 'LIG\\xea\\xb7\\xb8\\xeb\\xa3\\xb9\\xec\\x82\\xac', '\\xeb\\x94\\x94\\xec\\x8a\\xa4\\xed\\x94\\x8c\\xeb\\xa0\\x88\\xec\\x9d\\xb4\\xec\\x9e\\xa5\\xeb\\xb9\\x84\\xec\\xa0\\x84...', '2015-09-03', '14:01', '14:01', '\\xe3\\x88\\x9c', '\\xed\\x95\\x9c\\xec\\x9a\\xb8', '\\xec\\x86\\x8c\\xed\\x94\\x84\\xed\\x8a\\xb8\\xec\\x9b\\xa8\\xec\\x96\\xb4', '\\xea\\xb0\\x9c\\xeb\\xb0\\x9c\\xec\\x9e\\x90', '2015-06-18', '10:28', '10:28', 'VENTURESQUARE', '\\xea\\xb2\\xbd\\xea\\xb8\\xb0\\xec\\xb0\\xbd\\xec\\xa1\\xb0\\xea\\xb2\\xbd\\xec\\xa0\\x9c\\xed\\x98\\x81\\xec\\x8b\\xa0\\xec\\x84\\xbc\\xed\\x84\\xb0,', 'IoT', '\\xeb\\xb6\\x84\\xec\\x95\\xbc', '\\xeb\\xb3\\xb4\\xec\\x9c\\xa1\\xea\\xb8\\xb0\\xec\\x97\\x85', '4\\xea\\xb0\\x9c\\xec\\x82\\xac', '\\xec\\xb6\\x94\\xea\\xb0\\x80...', '2015-10-06', '16:37', '16:37', '[\\xed\\x8e\\x80\\xeb\\x8b\\xa4', '\\xeb\\xa7\\xa4\\xea\\xb1\\xb0\\xec\\xa7\\x84]', '\\xed\\x95\\x80\\xed\\x85\\x8c\\xed\\x81\\xac,', '\\xea\\xb8\\x88\\xec\\x9c\\xb5\\xea\\xb3\\xbc', '\\xea\\xb8\\xb0\\xec\\x88\\xa0\\xec\\x9d\\x98', '\\xeb\\xa7\\x8c\\xeb\\x82\\xa8', '#5', '2015-10-06', '15:25', '15:25', '\\xec\\x97\\x85\\xea\\xb3\\x84', '\\xec\\xb5\\x9c\\xea\\xb3\\xa0', '\\xec\\x8a\\x88\\xed\\x8d\\xbc', '\\xeb\\xa9\\x98\\xed\\x86\\xa0\\xec\\x97\\x90\\xea\\xb2\\x8c', '\\xeb\\xb0\\xb0\\xec\\x9a\\xb0\\xec\\x9e\\x90', '\\xec\\x9d\\xb8\\xed\\x84\\xb0\\xeb\\x9e\\x99\\xed\\x8b\\xb0\\xeb\\xb8\\x8c', '\\xea\\xb5\\x90\\xec\\x9c\\xa1', '\\xe2\\x80\\x98\\xed\\x81\\xb4...', '2015-10-06', '15:12', '15:12', '\\xec\\x9a\\xb0\\xeb\\xa6\\xac\\xec\\x97\\x90\\xea\\xb2\\x8c', '\\xec\\x97\\x86\\xeb\\x8a\\x94\\xea\\xb1\\xb4', '\\xec\\x8b\\x9c\\xea\\xb0\\x84\\xec\\x9d\\xb4', '\\xec\\x95\\x84\\xeb\\x8b\\x88\\xeb\\x8b\\xa4', '2015-10-06', '14:57', '14:57', '[\\xec\\xbd\\x94\\xeb\\xa6\\xac\\xec\\x95\\x88', '\\xec\\x8a\\xa4\\xed\\x83\\x80\\xed\\x8a\\xb8\\xec\\x97\\x85\\xec\\x9d\\x84', '\\xec\\x9c\\x84\\xed\\x95\\x9c', '\\xea\\xb8\\x80\\xeb\\xa1\\x9c\\xeb\\xb2\\x8c', '\\xec\\x97\\xac\\xed\\x96\\x89', '\\xed\\x8b\\xb0\\xec\\xbc\\x93]', '87\\xed\\x8e\\xb8.\\xec\\x8a\\xa4\\xed\\x83\\x80...', '2015-10-06', '14:50', '14:50', '\\xec\\xa0\\x84\\xec\\x9e\\x90\\xec\\x8b\\xa0\\xeb\\xac\\xb8', '\\xec\\xa0\\x84\\xec\\x9e\\x90\\xec\\x8b\\xa0\\xeb\\xac\\xb8', '\\xec\\x95\\x84\\xec\\x9d\\xb4\\xed\\x8b\\xb0\\xec\\x96\\xb4', '1\\xea\\xb8\\xb0', '\\xe2\\x80\\x9c\\xec\\x83\\x9d\\xec\\x83\\x9d\\xed\\x95\\x9c', 'IT', '\\xec\\x86\\x8c\\xec\\x8b\\x9d', '\\xec\\xa0\\x84\\xed\\x95\\x98\\xea\\xb2\\xa0\\xec\\x8a\\xb5\\xeb\\x8b\\x88\\xeb\\x8b\\xa4\\xe2\\x80\\x9d', '2015-10-06', '19:51', '19:51', '\\xec\\x84\\xb8\\xea\\xb3\\x84', '\\xec\\xb5\\x9c\\xec\\xb4\\x88', '3\\xeb\\xb0\\xb4\\xeb\\x93\\x9c', 'LTE-A', '\\xea\\xb3\\xb5\\xeb\\xb0\\xa9', '\\xec\\x9d\\xbc\\xeb\\x8b\\xa8\\xeb\\x9d\\xbd\\xc2\\xb7\\xc2\\xb7\\xc2\\xb7KT,', 'SKT', '\\xec\\x83\\x81\\xeb\\x8c\\x80', '\\xec\\x86\\x8c...', '2015-10-06', '19:00', '19:00', '[ET\\xeb\\x8b\\xa8\\xec\\x83\\x81]\\xec\\xa3\\xbc\\xed\\x8c\\x8c\\xec\\x88\\x98\\xed\\x95\\xa0\\xeb\\x8b\\xb9,', '\\xec\\x82\\xac\\xed\\x9a\\x8c', '\\xed\\x9a\\xa8\\xec\\x9c\\xa8\\xec\\x84\\xb1\\xec\\x9d\\x84', '\\xed\\x95\\xb5\\xec\\x8b\\xac', '\\xea\\xb0\\x80\\xec\\xb9\\x98\\xeb\\xa1\\x9c', '2015-10-06', '18:00', '18:00', '[\\xed\\x95\\xb4\\xec\\x84\\xa4]2.1\\xe3\\x8e\\x93', '\\xea\\xb2\\xbd\\xeb\\xa7\\xa4', '`3\\xec\\x82\\xac3\\xec\\x83\\x89`', '\\xec\\xa3\\xbc\\xec\\x9e\\xa5...\\xec\\x97\\x85\\xea\\xb3\\x84', '\"\\xea\\xb2\\xbd\\xeb\\xa7\\xa4\\xeb\\xb0\\xa9\\xec\\x8b\\x9d', '\\xeb\\xaa\\x85...', '2015-10-06', '18:00', '18:00', '[ET\\xeb\\x8b\\xa8\\xec\\x83\\x81]\\xeb\\xb0\\xa9\\xec\\x86\\xa1', '\\xec\\xbd\\x98\\xed\\x85\\x90\\xec\\xb8\\xa0', '\\xea\\xb8\\x80\\xeb\\xa1\\x9c\\xeb\\xb2\\x8c', '\\xec\\x9c\\xa0\\xed\\x86\\xb5', '\\xed\\x99\\x9c\\xec\\x84\\xb1\\xed\\x99\\x94\\xeb\\xa5\\xbc', '\\xec\\x9c\\x84\\xed\\x95\\x9c', '\\xec\\xa0\\x84\\xeb\\x9e\\xb5', '2015-10-06', '18:00', '18:00', 'RE/CODE', 'Bill', 'Gurley', 'on', 'Tech', 'Bubble:', 'I\\xe2\\x80\\x99m', 'a', 'Pragmatist,', '...', '2015-10-07', '02:39', '02:39', 'Verizon', 'Will', 'Support', 'Samsung', 'Pay', 'in', 'a', '\\xe2\\x80\\x98Future', '...', '2015-10-07', '02:18', '02:18', 'Uber', 'Users', 'Are', 'Waiting', 'to', 'Buy', 'Cars', 'Because', 'of', '...', '2015-10-07', '02:14', '02:14', 'Microsoft', 'Unveils', 'Surface', 'Laptop,', 'Updated', 'Lumi...', '2015-10-07', '01:14', '01:14', 'Microsoft', 'Now', 'Taking', 'Applications', 'for', '$3,000', 'H...', '2015-10-06', '23:55', '23:55', 'Back', 'to', 'Top', 'Leading', 'Together', 'for', 'Brighter', 'Future', '-', 'Quick', 'Navigation', '\\xed\\x95\\x9c\\xea\\xb5\\xad\\xea\\xb8\\xb0\\xec\\x88\\xa0\\xea\\xb5\\x90\\xec\\x9c\\xa1\\xeb\\x8c\\x80\\xed\\x95\\x99\\xea\\xb5\\x90', '\\xed\\x99\\x88\\xed\\x8e\\x98\\xec\\x9d\\xb4\\xec\\xa7\\x80', '\\xed\\x95\\x9c\\xea\\xb5\\xad\\xea\\xb8\\xb0\\xec\\x88\\xa0\\xea\\xb5\\x90\\xec\\x9c\\xa1\\xeb\\x8c\\x80\\xed\\x95\\x99\\xea\\xb5\\x90', 'WEBMAIL', '\\xed\\x95\\x9c\\xea\\xb5\\xad\\xea\\xb8\\xb0\\xec\\x88\\xa0\\xea\\xb5\\x90\\xec\\x9c\\xa1\\xeb\\x8c\\x80\\xed\\x95\\x99\\xea\\xb5\\x90', '\\xec\\x98\\xa8\\xeb\\x9d\\xbc\\xec\\x9d\\xb8', '\\xed\\x8f\\x89\\xec\\x83\\x9d\\xea\\xb5\\x90\\xec\\x9c\\xa1\\xec\\x9b\\x90', '\\xea\\xb5\\x90\\xec\\x9c\\xa1\\xec\\x97\\xad\\xeb\\x9f\\x89\\xea\\xb0\\x95\\xed\\x99\\x94\\xec\\x82\\xac\\xec\\x97\\x85', '\\xec\\x98\\xa8\\xeb\\x9d\\xbc\\xec\\x9d\\xb8', '\\xec\\xbb\\xa8\\xed\\x85\\x90\\xec\\xb8\\xa0', '\\xec\\xbb\\xb4\\xed\\x93\\xa8\\xed\\x84\\xb0\\xea\\xb3\\xb5\\xed\\x95\\x99\\xeb\\xb6\\x80', '\\xed\\x8f\\xac\\xed\\x8a\\xb8\\xed\\x8f\\xb4\\xeb\\xa6\\xac\\xec\\x98\\xa4-', 'IT', '\\xec\\x9c\\xb5\\xed\\x95\\xa9\\xec\\x86\\x8c\\xed\\x94\\x84\\xed\\x8a\\xb8\\xec\\x9b\\xa8\\xec\\x96\\xb4', '\\xec\\x9d\\xb8\\xeb\\xa0\\xa5\\xec\\x96\\x91\\xec\\x84\\xb1\\xec\\x82\\xac\\xec\\x97\\x85', 'Campus', 'Location', 'Contact', 'CSE', '\\xec\\xb6\\xa9\\xec\\xb2\\xad\\xeb\\x82\\xa8\\xeb\\x8f\\x84', '\\xec\\xb2\\x9c\\xec\\x95\\x88\\xec\\x8b\\x9c', '\\xeb\\x8f\\x99\\xeb\\x82\\xa8\\xea\\xb5\\xac', '\\xeb\\xb3\\x91\\xec\\xb2\\x9c\\xeb\\xa9\\xb4', '\\xec\\xb6\\xa9\\xec\\xa0\\x88\\xeb\\xa1\\x9c', '1600\\xed\\x95\\x9c\\xea\\xb5\\xad\\xea\\xb8\\xb0\\xec\\x88\\xa0\\xea\\xb5\\x90\\xec\\x9c\\xa1\\xeb\\x8c\\x80\\xed\\x95\\x99\\xea\\xb5\\x90', '\\xec\\xbb\\xb4\\xed\\x93\\xa8\\xed\\x84\\xb0\\xea\\xb3\\xb5\\xed\\x95\\x99\\xeb\\xb6\\x80', '\\xed\\x95\\x99\\xea\\xb3\\xbc\\xec\\x82\\xac\\xeb\\xac\\xb4\\xec\\x8b\\xa4', 'TEL', '(041)', '560', '1460~1461', 'FAX', '(041)', '560', '1462', 'Facebook', 'Twitter', 'Google', 'Plus', 'Linkedin', 'Youtube', 'Flickr-', '(31253)', '\\xec\\xb6\\xa9\\xec\\xb2\\xad\\xeb\\x82\\xa8\\xeb\\x8f\\x84', '\\xec\\xb2\\x9c\\xec\\x95\\x88\\xec\\x8b\\x9c', '\\xeb\\x8f\\x99\\xeb\\x82\\xa8\\xea\\xb5\\xac', '\\xeb\\xb3\\x91\\xec\\xb2\\x9c\\xeb\\xa9\\xb4', '\\xec\\xb6\\xa9\\xec\\xa0\\x88\\xeb\\xa1\\x9c', '1600', '(\\xea\\xb0\\x80\\xec\\xa0\\x84\\xeb\\xa6\\xac,', '\\xed\\x95\\x9c\\xea\\xb5\\xad\\xea\\xb8\\xb0\\xec\\x88\\xa0\\xea\\xb5\\x90\\xec\\x9c\\xa1\\xeb\\x8c\\x80\\xed\\x95\\x99\\xea\\xb5\\x90)', '\\xec\\xbb\\xb4\\xed\\x93\\xa8\\xed\\x84\\xb0\\xea\\xb3\\xb5\\xed\\x95\\x99\\xeb\\xb6\\x80', 'Copyright', '\\xc2\\xa9', '2015.', 'All', 'rights', 'reserved']\n"
     ]
    }
   ],
   "source": [
    "import urllib2\n",
    "source = urllib2.urlopen(\"http://cse.kut.ac.kr/\").read()\n",
    "t = source.split('>');\n",
    "a=0; i= 0; j=0;\n",
    "B= '';\n",
    "while(i<len(t)):\n",
    "    a = t[i].find('<');\n",
    "    if(a== -1 and a==0 ):\n",
    "        break;   \n",
    "    else:\n",
    "        B = B + t[i][0:a];\n",
    "        #print t[i][0:a],;\n",
    "        i = i+1;\n",
    "C = B.split();\n",
    "print C;\n"
   ]
  },
  {
   "cell_type": "markdown",
   "metadata": {},
   "source": [
    "#소감"
   ]
  },
  {
   "cell_type": "markdown",
   "metadata": {},
   "source": [
    "이번 과제를 하면서 정말 많은 시간을 투자한것 같다. 특히 마지막문제는 거의 하루종일 시간을 투자하여서 해결해보려 했었는데 일단 정확히 문자열만 추출하는게 어려웠고 마지막에 한글문자가 깨지며 나오는걸 해결하지 못하였다. 나는 자신있는 프로그래밍언어가 아직 없기 때문에 파이썬을 열심히 공부해서 흥미가 더 생기면 더 깊게 공부해보고 싶다.  "
   ]
  }
 ],
 "metadata": {
  "kernelspec": {
   "display_name": "Python 2",
   "language": "python",
   "name": "python2"
  },
  "language_info": {
   "codemirror_mode": {
    "name": "ipython",
    "version": 2
   },
   "file_extension": ".py",
   "mimetype": "text/x-python",
   "name": "python",
   "nbconvert_exporter": "python",
   "pygments_lexer": "ipython2",
   "version": "2.7.9"
  }
 },
 "nbformat": 4,
 "nbformat_minor": 0
}
