{
 "cells": [
  {
   "cell_type": "markdown",
   "metadata": {},
   "source": [
    "##Assignment 5   \n",
    "2010136060 백동우<br><br>\n",
    "[정보]<br>\n",
    "1) Due Date: 2014년 12월 9일 (수요일), 23시 59분<br>\n",
    "2) 제출방법: ipython notebook으로 작성된 내용을 github에 올려 해당 URL을 EL 사이트에 제출<br>\n",
    " github url을 http://nbviewer.ipython.org 에 넣어서 산출된 URL을 EL사이트에 제출해도 됨<br>\n",
    "3) 내용: 반드시 python code와 수행 결과를 ipython notebook 내에 작성하여 넣고 이에 대한 설명등을 해당 코드 아래에 markdown cell에 넣어 기입하시오.<br>\n",
    "4) 숙제이후 소감: 모든 문제의 답을 적은 이후에 현재까지 강의를 들은 이후의 소감, 숙제를 한 이후의 소감, 또는 전하고자 하는 말 등을 짧막하게라도 좋으니 마지막에 함께 작성하여 제출하시오.<br>\n",
    "5) 문제 (총 9개)"
   ]
  },
  {
   "cell_type": "markdown",
   "metadata": {},
   "source": [
    "###[1번 문제]\n",
    "클래스와 모듈의 공통점과 차이점에 대해 설명하시오."
   ]
  },
  {
   "cell_type": "markdown",
   "metadata": {},
   "source": [
    "클래스와 모듈은 둘다 자신의 이름공간을 생성하지만, 모듈은 파이썬 데이터와 함수등을 정의하고 있는 단위로써 파일단위로 이름공간을 구성하고, 클래스는 영역 내에 이름공간을 구성한다."
   ]
  },
  {
   "cell_type": "markdown",
   "metadata": {},
   "source": [
    "###[2번 문제]\n",
    "다형성에 대해 설명하고 다형성을 보여주는 자신만의 파이썬 코드 예제를 제시하시오."
   ]
  },
  {
   "cell_type": "code",
   "execution_count": 8,
   "metadata": {
    "collapsed": false
   },
   "outputs": [
    {
     "name": "stdout",
     "output_type": "stream",
     "text": [
      "천만원\n",
      "일억\n",
      "오억\n"
     ]
    }
   ],
   "source": [
    "class Car:\n",
    "    def price(self):\n",
    "        print '...'\n",
    "class Hyundai(Car):\n",
    "    def price(self):\n",
    "        print '천만원'\n",
    "class BMW(Car):\n",
    "    def price(self):\n",
    "        print '일억'\n",
    "class Benz():\n",
    "    def price(self):\n",
    "        print '오억'\n",
    "        \n",
    "Hyundai().price();\n",
    "BMW().price();\n",
    "Benz().price();"
   ]
  },
  {
   "cell_type": "markdown",
   "metadata": {},
   "source": [
    "상속관계 내의 다른 클래스들의 인스턴스들이 같은 멤버 함수 호출에 대해 각각 다르게 반응하도록 하는 기능으로써 각각의 클래스는 같은함수이름을 가지더라도 다른 결과로 오버로딩 된다. 프로그램 작성 코드량이 줄어들고 코드의 가독성을 높혀준다."
   ]
  },
  {
   "cell_type": "markdown",
   "metadata": {},
   "source": [
    "###[3번 문제]\n",
    "다음 각 요구사항 모두를 만족시키는 Counter 클래스를 코딩하시오 (정답을 각 요구사항별로 입력할 필요 없이 3번 문제에 대해 1개의 클래스 정의 코드를 제시하면 된다.)"
   ]
  },
  {
   "cell_type": "code",
   "execution_count": 1,
   "metadata": {
    "collapsed": false
   },
   "outputs": [
    {
     "name": "stdout",
     "output_type": "stream",
     "text": [
      "[Count (step: 1)] : 10\n",
      "[Count (step: 2)] : 10\n",
      "[Count (step: 1)] : 11\n",
      "[Count (step: 2)] : 12\n",
      "[Count (step: 1)] : 12\n",
      "[Count (step: 2)] : 14\n",
      "[Count (step: 1)] : 17\n",
      "[Count (step: 2)] : 9\n",
      "True\n",
      "False\n",
      "False\n",
      "True\n",
      "True\n",
      "False\n"
     ]
    }
   ],
   "source": [
    "class Counter:\n",
    "    def __init__(self,count,step=1):\n",
    "        self.count = count\n",
    "        self.step = step\n",
    "    def __str__(self):\n",
    "        return str(\"[Count (step: %d)] : %d\" % (self.step , self.count))\n",
    "    def incr(self):\n",
    "        self.count = self.count+self.step\n",
    "    def __call__(self):\n",
    "        self.incr()\n",
    "    def __add__(self, num):\n",
    "        self.count = self.count + num\n",
    "        return self\n",
    "    def __sub__(self, num):\n",
    "        self.count = self.count - num\n",
    "        return self\n",
    "    def __cmp__(self, i):\n",
    "        return self.count - i\n",
    "\n",
    "\n",
    "        \n",
    "c =Counter(10)\n",
    "d =Counter(10,2)\n",
    "print c\n",
    "print d\n",
    "\n",
    "c.incr()\n",
    "d.incr()\n",
    "print c\n",
    "print d\n",
    "\n",
    "c()\n",
    "d()\n",
    "print c\n",
    "print d\n",
    "\n",
    "c = c + 5\n",
    "d = d - 5\n",
    "print c\n",
    "print d\n",
    "\n",
    "print c>10\n",
    "print d>10\n",
    "print c<10\n",
    "print d<10\n",
    "print c==17\n",
    "print d!=9"
   ]
  },
  {
   "cell_type": "markdown",
   "metadata": {},
   "source": [
    "요구사항1 - __init__ 생성자 메소드에 step 디폴트값을 1로 받도록 정의하였다. <br>\n",
    "요구사항2 - __str__ 메소드에 문자열 포맷팅을 이용하여 클래스내 count값과 step값을 리턴해주었다.<br>\n",
    "요구사항3 - incr() 메소드에 count 변수에 step값을 더한 값을 새로 정의해주었다.<br>\n",
    "요구사항4 - __call__ 메소드를 통하여 인스턴스 객체를 직접 호출할때 incr()메소드가 호출되게 하였다.<br>\n",
    "요구사항5 - add()메소드와 sub()메소드를 통하여 연산을 수행하도록 하였다.<br>\n",
    "요구사항6 - __cmp__ 메소드를 통하여 반환결과를 판단하여 True,False를 보여주도록 하였다."
   ]
  },
  {
   "cell_type": "markdown",
   "metadata": {},
   "source": [
    "###[4번 문제]\n",
    "다음은 내장 자료형 list를 서브클래싱하여 만든 MySet 클래스 정의 내용이다. 다음 클래스 정의에서 __init__(), __str()__(), elimicate_duplicate()의 세 개의 메소드 코드 내용을 자신이 다른 사람에게 가르친다고 생각하며 설명해보시오.\n",
    "\n",
    "MySet은 집합(Set) 자료형을 정의하려는 의도하에 만들어진 클래스이다."
   ]
  },
  {
   "cell_type": "code",
   "execution_count": 13,
   "metadata": {
    "collapsed": false
   },
   "outputs": [
    {
     "name": "stdout",
     "output_type": "stream",
     "text": [
      "MySet: {1 ,2 ,3}\n",
      "MySet: {2 ,3 ,4 ,5 ,6 ,7 ,8 ,9}\n"
     ]
    }
   ],
   "source": [
    "class MySet(list):\n",
    "    def __init__(self, l):\n",
    "        for e in l:\n",
    "            self.append(e)\n",
    "        MySet.eliminate_duplicate(self)\n",
    "    \n",
    "    def __str__(self):\n",
    "        result = \"MySet: {\"\n",
    "        for e in self:\n",
    "            result = result + str(e) + \" ,\"\n",
    "        result = result[0:len(result)-2] + \"}\"\n",
    "        return result\n",
    "\n",
    "    @staticmethod    \n",
    "    def eliminate_duplicate(l):\n",
    "        s = []\n",
    "        for e in l:\n",
    "            if e not in s:\n",
    "                s.append(e)\n",
    "        l[:] = []\n",
    "        for e in s:\n",
    "            l.append(e)\n",
    "\n",
    "    \n",
    "if __name__ == \"__main__\":\n",
    "    s = MySet([1, 2, 2, 3])\n",
    "    print s\n",
    "    t = MySet([2, 3, 4, 5, 6, 7, 8, 8, 8, 8, 8, 9])\n",
    "    print t"
   ]
  },
  {
   "cell_type": "markdown",
   "metadata": {
    "collapsed": true
   },
   "source": [
    "*__init__메소드는 생성자 메소드이다. MySet()객체가 생성될때 자동으로 호출되는 메소드이고 self인자를 통해 리스트에 각 원소를 추가하고. eliminate_duplicate()를 통하여 중복되는 원소를 제외하고 s리스트를 만들어 다시 l리스트에 추가하게된다.<br>\n",
    "*__str__메소드는  print 예약어나 str()내장함수 호출에 대응되는 메소드이다. 따라서\n",
    "print를 하게되면 메소드에 정의되어있는 대로 출력을 하게 해준다.<br>\n",
    "*elimicate_duplicate() 메소드는 정적메소드로 정의되어있다. 따라서 해당클래스의 인스턴스를 통해서도 호출이 가능하다. 메소드에서는 s라는 빈 리스트를 만들고 s리스트의 원소가 아닌 l리스트의 원소들을 s리스트에 추가하게된다. 그리고 다시 l리스트에 새롭게 추가한다."
   ]
  },
  {
   "cell_type": "markdown",
   "metadata": {},
   "source": [
    "###[5번 문제]\n",
    "4번 문제에 정의된 MySet 클래스에 메소드를 추가하여 다음 각 요구사항 모두를 만족시키는 코딩을 제시하시오"
   ]
  },
  {
   "cell_type": "code",
   "execution_count": 12,
   "metadata": {
    "collapsed": false
   },
   "outputs": [
    {
     "name": "stdout",
     "output_type": "stream",
     "text": [
      "MySet: {1 ,2 ,3}\n",
      "MySet: {2 ,3 ,4 ,5 ,6 ,7 ,8 ,9}\n",
      "MySet: {1 ,2 ,3 ,4 ,5 ,6 ,7 ,8 ,9}\n",
      "MySet: {2 ,3}\n",
      "MySet: {1 ,2}\n"
     ]
    }
   ],
   "source": [
    "class MySet(list):\n",
    "    def __init__(self, l):\n",
    "        for e in l:\n",
    "            self.append(e)\n",
    "        MySet.eliminate_duplicate(self)\n",
    "    \n",
    "    def __str__(self):\n",
    "        result = \"MySet: {\"\n",
    "        for e in self:\n",
    "            result = result + str(e) + \" ,\"\n",
    "        result = result[0:len(result)-2] + \"}\"\n",
    "        return result\n",
    "\n",
    "    @staticmethod    \n",
    "    def eliminate_duplicate(l):\n",
    "        s = []\n",
    "        for e in l:\n",
    "            if e not in s:\n",
    "                s.append(e)\n",
    "        l[:] = []\n",
    "        for e in s:\n",
    "            l.append(e)\n",
    "\n",
    " \n",
    "    def __or__(self, other):  \n",
    "        \n",
    "        l = MySet([]) # l에 MySet([])을 인스턴스로 할당.\n",
    "        \n",
    "        for instance in self, other: \n",
    "            for e in instance: # 인스턴스객체 에 있는 리스트 원소를 반복문을 통해\n",
    "                if e not in l: # 리스트 l에 해당원소가 없으면 추가.\n",
    "                    l.append(e);            \n",
    "        l.sort()# 값 정렬\n",
    "        \n",
    "        return l \n",
    "    \n",
    "    def __and__(self, other):\n",
    "        \n",
    "        l = MySet([]) # l에 MySet([])을 인스턴스로 할당.\n",
    "        \n",
    "        for e in other:                \n",
    "            if e in self: \n",
    "                l.append(e);# 조건문을 통하여 l 리스트에 원소 e값 추가.\n",
    "                    \n",
    "        return l\n",
    "\n",
    "\n",
    "    def __sub__(self, other):\n",
    "        \n",
    "        l = MySet([]) # l에 ySet([])을 인스턴스로 할당.\n",
    "        \n",
    "        \n",
    "        for instance in self, other: # 자신의 인스턴스와 다른 인스턴스 객체를 반복문원 원소로 사용\n",
    "            for e in instance:                         \n",
    "                if (e not in l) and (e not in other):\n",
    "                    l.append(e)#e 값이 l에 존재하지 않고 다른 인스터스에 e값이 존재하지 않을때 l리스트에 e 값을 추가.\n",
    "            \n",
    "        return l \n",
    "    \n",
    "\n",
    "if __name__ == \"__main__\":\n",
    "    s = MySet([1, 2, 2, 3])\n",
    "    print s\n",
    "    t = MySet([2, 3, 4, 5, 6, 7, 8, 8, 8, 8, 8, 9])\n",
    "    print t\n",
    "    \n",
    "    u = s|t\n",
    "    print u\n",
    "    u = s & t\n",
    "    print u\n",
    "    \n",
    "    s = MySet([1,2,3])\n",
    "    t = MySet([3,4,5])\n",
    "\n",
    "    u = s - t\n",
    "    print u\n"
   ]
  },
  {
   "cell_type": "markdown",
   "metadata": {},
   "source": [
    "###[6번 문제]\n",
    "5번 문제에서 정의한 MySet 클래스에 대해 다음 예제를 수행하면 오류없이 올바르게 동작하는 것을 확인할 수 있다. 다음 예제 내에 있는 len(), bool() 내장함수와 in 키워드 사용 예제가 별다른 메소드 정의를 하지 않았는 데도 올바르게 수행되는 이유를 설명하시오."
   ]
  },
  {
   "cell_type": "code",
   "execution_count": 14,
   "metadata": {
    "collapsed": false
   },
   "outputs": [
    {
     "name": "stdout",
     "output_type": "stream",
     "text": [
      "6\n",
      "True\n",
      "True\n"
     ]
    }
   ],
   "source": [
    "s = MySet([1, 2, 3, 4, 5, 6])\n",
    "print len(s)\n",
    "\n",
    "print bool(s)  \n",
    "\n",
    "print 2 in s"
   ]
  },
  {
   "cell_type": "markdown",
   "metadata": {},
   "source": [
    "MySet클래스는 list라는 클래스를 상속 받고 있기 때문에 list클래스가 지니고 있는 모든 기능을 사용할 수 있다. 그래서 위와 같은 메소드들은 이미 부모클래스인 list에서 정의되어있기 때문에 부모클래스 list가 지닌 메소드를 호출하게 되는 것이다."
   ]
  },
  {
   "cell_type": "markdown",
   "metadata": {},
   "source": [
    "###[7번 문제]\n",
    "프로젝트 오일러 문제 16"
   ]
  },
  {
   "cell_type": "code",
   "execution_count": 9,
   "metadata": {
    "collapsed": false
   },
   "outputs": [
    {
     "name": "stdout",
     "output_type": "stream",
     "text": [
      "1366\n"
     ]
    }
   ],
   "source": [
    "import math\n",
    "a=math.pow(2,1000)\n",
    "a=str(int(a))\n",
    "l=list()\n",
    "l+=a\n",
    "print(sum([int(i) for i in l]))"
   ]
  },
  {
   "cell_type": "markdown",
   "metadata": {},
   "source": [
    "math모듈을 호출하고 리스트내포방식을 통하여 2^1000의 각 자리수를 더하여 출력하였다."
   ]
  },
  {
   "cell_type": "markdown",
   "metadata": {},
   "source": [
    "###[8번 문제]\n",
    "\n",
    "프로젝트 오일러 문제 17"
   ]
  },
  {
   "cell_type": "code",
   "execution_count": 16,
   "metadata": {
    "collapsed": false
   },
   "outputs": [
    {
     "name": "stdout",
     "output_type": "stream",
     "text": [
      "21124\n"
     ]
    }
   ],
   "source": [
    "map={1:\"one\",\n",
    "2:\"two\",\n",
    "3:\"three\",\n",
    "4:\"four\",\n",
    "5:\"five\",\n",
    "6:\"six\",\n",
    "7:\"seven\",\n",
    "8:\"eight\",\n",
    "9:\"nine\",\n",
    "10:\"ten\",\n",
    "11:\"eleven\",\n",
    "12:\"twelve\",\n",
    "13:\"thirteen\",\n",
    "14:\"fourteen\",\n",
    "15:\"fifteen\",\n",
    "16:\"sixteen\",\n",
    "17:\"seventeen\",\n",
    "18:\"eighteen\",\n",
    "19:\"nineteen\",\n",
    "20:\"twenty\",\n",
    "30:\"thirty\",\n",
    "40:\"forty\",\n",
    "50:\"fifty\",\n",
    "60:\"sixty\",\n",
    "70:\"seventy\",\n",
    "80:\"eighty\",\n",
    "90:\"ninety\",\n",
    "}\n",
    "\n",
    "sumofwordlen=0\n",
    "\n",
    "for x in range(1, 1001):\n",
    "\n",
    "    if 0 < x <= 20:\n",
    "        sumofwordlen+=len(map.get(x))\n",
    "\n",
    "    elif 20 < x <= 99:\n",
    "        t=str(x)[0:1] #십의자리\n",
    "        o=str(x)[1:2] #일의자리\n",
    "        key=t+\"0\" #key\n",
    "        \n",
    "        temp1=map.get(int(key))\n",
    "        temp2=map.get(int(o))\n",
    "        \n",
    "        sumoflen=0\n",
    "\n",
    "        if int(o) == 0:\n",
    "            sumoflen = len(temp1)\n",
    "            sumofwordlen+=sumoflen\n",
    "\n",
    "        else:\n",
    "            sumoflen = len(temp1) + len(temp2)\n",
    "            sumofwordlen+=sumoflen\n",
    "\n",
    "            #이걸 다시 map에 넣는다\n",
    "            map[x]=temp1+temp2\n",
    "\n",
    "    elif 99 < x < 1000:\n",
    "        h=str(x)[0:1] #백의자리\n",
    "        t=str(x)[1:3] #뒤의두자리\n",
    "\n",
    "        temp1=map.get(int(h))\n",
    "        temp2=\"hundred\"\n",
    "        temp3=map.get(int(t))\n",
    "        \n",
    "        sumoflen=0\n",
    "\n",
    "        if int(t) == 0:\n",
    "            sumoflen = len(temp1) + len(temp2)\n",
    "    \n",
    "            sumofwordlen+=sumoflen\n",
    "        else:\n",
    "            temp2+=\"and\"\n",
    "            sumoflen = len(temp1) + len(temp2) + len(temp3)\n",
    "\n",
    "            sumofwordlen+=sumoflen\n",
    "\n",
    "    else :\n",
    "        sumofwordlen+=len(\"onethousand\")\n",
    "\n",
    "print(sumofwordlen)"
   ]
  },
  {
   "cell_type": "markdown",
   "metadata": {},
   "source": [
    "map함수를 이용하여 1부터 1000까지 영어로 작성하였을때 필요한 글자수를 계산하였다."
   ]
  },
  {
   "cell_type": "markdown",
   "metadata": {},
   "source": [
    "###[9번 문제]\n",
    "\n",
    "프로젝트 오일러 문제 18\n"
   ]
  },
  {
   "cell_type": "code",
   "execution_count": 2,
   "metadata": {
    "collapsed": false
   },
   "outputs": [
    {
     "name": "stdout",
     "output_type": "stream",
     "text": [
      "[1074]\n"
     ]
    }
   ],
   "source": [
    "def make_line(line):\n",
    "    return [int(x) for x in line.split(' ') if x]\n",
    "\n",
    "m = \"\"\"75 \n",
    "95 64 \n",
    "17 47 82 \n",
    "18 35 87 10 \n",
    "20 04 82 47 65 \n",
    "19 01 23 75 03 34 \n",
    "88 02 77 73 07 63 67 \n",
    "99 65 04 28 06 16 70 92 \n",
    "41 41 26 56 83 40 80 70 33 \n",
    "41 48 72 33 47 32 37 16 94 29 \n",
    "53 71 44 65 25 43 91 52 97 51 14 \n",
    "70 11 33 28 77 73 17 78 39 68 17 57 \n",
    "91 71 52 38 17 14 91 43 58 50 27 29 48 \n",
    "63 66 04 68 89 53 67 30 73 16 69 87 40 31 \n",
    "04 62 98 27 23 09 70 98 73 93 38 53 60 04 23 \"\"\" \n",
    "\n",
    "lines = m.split('\\n')\n",
    "num = [make_line(line) for line in lines]\n",
    "length = len(num)\n",
    "\n",
    "f = num[-1]\n",
    "for i in range(length-2, -1, -1):\n",
    "    zip1 = map(lambda x:x[0] + x[1], zip(f, num[i]))\n",
    "    zip2 = map(lambda x:x[0] + x[1], zip(f[1:], num[i]))\n",
    "    f = list(map(max, zip(zip1, zip2)))\n",
    "    \n",
    "\n",
    "print f"
   ]
  },
  {
   "cell_type": "markdown",
   "metadata": {},
   "source": [
    "make_line함수에서 공백문자를 제거하였고, lambda함수를 통하여 리스트를 만들어 삼각형에서 합이 최대가 되는 경로를 찾아 그 합을 구하였다."
   ]
  },
  {
   "cell_type": "markdown",
   "metadata": {},
   "source": [
    "###[10번 문제]\n",
    "프로젝트 오일러 문제 19"
   ]
  },
  {
   "cell_type": "code",
   "execution_count": 18,
   "metadata": {
    "collapsed": false
   },
   "outputs": [
    {
     "name": "stdout",
     "output_type": "stream",
     "text": [
      "1901-09-01 00:00:00\n",
      "1901-12-01 00:00:00\n",
      "1902-06-01 00:00:00\n",
      "1903-02-01 00:00:00\n",
      "1903-03-01 00:00:00\n",
      "1903-11-01 00:00:00\n",
      "1904-05-01 00:00:00\n",
      "1905-01-01 00:00:00\n",
      "1905-10-01 00:00:00\n",
      "1906-04-01 00:00:00\n",
      "1906-07-01 00:00:00\n",
      "1907-09-01 00:00:00\n",
      "1907-12-01 00:00:00\n",
      "1908-03-01 00:00:00\n",
      "1908-11-01 00:00:00\n",
      "1909-08-01 00:00:00\n",
      "1910-05-01 00:00:00\n",
      "1911-01-01 00:00:00\n",
      "1911-10-01 00:00:00\n",
      "1912-09-01 00:00:00\n",
      "1912-12-01 00:00:00\n",
      "1913-06-01 00:00:00\n",
      "1914-02-01 00:00:00\n",
      "1914-03-01 00:00:00\n",
      "1914-11-01 00:00:00\n",
      "1915-08-01 00:00:00\n",
      "1916-10-01 00:00:00\n",
      "1917-04-01 00:00:00\n",
      "1917-07-01 00:00:00\n",
      "1918-09-01 00:00:00\n",
      "1918-12-01 00:00:00\n",
      "1919-06-01 00:00:00\n",
      "1920-02-01 00:00:00\n",
      "1920-08-01 00:00:00\n",
      "1921-05-01 00:00:00\n",
      "1922-01-01 00:00:00\n",
      "1922-10-01 00:00:00\n",
      "1923-04-01 00:00:00\n",
      "1923-07-01 00:00:00\n",
      "1924-06-01 00:00:00\n",
      "1925-02-01 00:00:00\n",
      "1925-03-01 00:00:00\n",
      "1925-11-01 00:00:00\n",
      "1926-08-01 00:00:00\n",
      "1927-05-01 00:00:00\n",
      "1928-01-01 00:00:00\n",
      "1928-04-01 00:00:00\n",
      "1928-07-01 00:00:00\n",
      "1929-09-01 00:00:00\n",
      "1929-12-01 00:00:00\n",
      "1930-06-01 00:00:00\n",
      "1931-02-01 00:00:00\n",
      "1931-03-01 00:00:00\n",
      "1931-11-01 00:00:00\n",
      "1932-05-01 00:00:00\n",
      "1933-01-01 00:00:00\n",
      "1933-10-01 00:00:00\n",
      "1934-04-01 00:00:00\n",
      "1934-07-01 00:00:00\n",
      "1935-09-01 00:00:00\n",
      "1935-12-01 00:00:00\n",
      "1936-03-01 00:00:00\n",
      "1936-11-01 00:00:00\n",
      "1937-08-01 00:00:00\n",
      "1938-05-01 00:00:00\n",
      "1939-01-01 00:00:00\n",
      "1939-10-01 00:00:00\n",
      "1940-09-01 00:00:00\n",
      "1940-12-01 00:00:00\n",
      "1941-06-01 00:00:00\n",
      "1942-02-01 00:00:00\n",
      "1942-03-01 00:00:00\n",
      "1942-11-01 00:00:00\n",
      "1943-08-01 00:00:00\n",
      "1944-10-01 00:00:00\n",
      "1945-04-01 00:00:00\n",
      "1945-07-01 00:00:00\n",
      "1946-09-01 00:00:00\n",
      "1946-12-01 00:00:00\n",
      "1947-06-01 00:00:00\n",
      "1948-02-01 00:00:00\n",
      "1948-08-01 00:00:00\n",
      "1949-05-01 00:00:00\n",
      "1950-01-01 00:00:00\n",
      "1950-10-01 00:00:00\n",
      "1951-04-01 00:00:00\n",
      "1951-07-01 00:00:00\n",
      "1952-06-01 00:00:00\n",
      "1953-02-01 00:00:00\n",
      "1953-03-01 00:00:00\n",
      "1953-11-01 00:00:00\n",
      "1954-08-01 00:00:00\n",
      "1955-05-01 00:00:00\n",
      "1956-01-01 00:00:00\n",
      "1956-04-01 00:00:00\n",
      "1956-07-01 00:00:00\n",
      "1957-09-01 00:00:00\n",
      "1957-12-01 00:00:00\n",
      "1958-06-01 00:00:00\n",
      "1959-02-01 00:00:00\n",
      "1959-03-01 00:00:00\n",
      "1959-11-01 00:00:00\n",
      "1960-05-01 00:00:00\n",
      "1961-01-01 00:00:00\n",
      "1961-10-01 00:00:00\n",
      "1962-04-01 00:00:00\n",
      "1962-07-01 00:00:00\n",
      "1963-09-01 00:00:00\n",
      "1963-12-01 00:00:00\n",
      "1964-03-01 00:00:00\n",
      "1964-11-01 00:00:00\n",
      "1965-08-01 00:00:00\n",
      "1966-05-01 00:00:00\n",
      "1967-01-01 00:00:00\n",
      "1967-10-01 00:00:00\n",
      "1968-09-01 00:00:00\n",
      "1968-12-01 00:00:00\n",
      "1969-06-01 00:00:00\n",
      "1970-02-01 00:00:00\n",
      "1970-03-01 00:00:00\n",
      "1970-11-01 00:00:00\n",
      "1971-08-01 00:00:00\n",
      "1972-10-01 00:00:00\n",
      "1973-04-01 00:00:00\n",
      "1973-07-01 00:00:00\n",
      "1974-09-01 00:00:00\n",
      "1974-12-01 00:00:00\n",
      "1975-06-01 00:00:00\n",
      "1976-02-01 00:00:00\n",
      "1976-08-01 00:00:00\n",
      "1977-05-01 00:00:00\n",
      "1978-01-01 00:00:00\n",
      "1978-10-01 00:00:00\n",
      "1979-04-01 00:00:00\n",
      "1979-07-01 00:00:00\n",
      "1980-06-01 00:00:00\n",
      "1981-02-01 00:00:00\n",
      "1981-03-01 00:00:00\n",
      "1981-11-01 00:00:00\n",
      "1982-08-01 00:00:00\n",
      "1983-05-01 00:00:00\n",
      "1984-01-01 00:00:00\n",
      "1984-04-01 00:00:00\n",
      "1984-07-01 00:00:00\n",
      "1985-09-01 00:00:00\n",
      "1985-12-01 00:00:00\n",
      "1986-06-01 00:00:00\n",
      "1987-02-01 00:00:00\n",
      "1987-03-01 00:00:00\n",
      "1987-11-01 00:00:00\n",
      "1988-05-01 00:00:00\n",
      "1989-01-01 00:00:00\n",
      "1989-10-01 00:00:00\n",
      "1990-04-01 00:00:00\n",
      "1990-07-01 00:00:00\n",
      "1991-09-01 00:00:00\n",
      "1991-12-01 00:00:00\n",
      "1992-03-01 00:00:00\n",
      "1992-11-01 00:00:00\n",
      "1993-08-01 00:00:00\n",
      "1994-05-01 00:00:00\n",
      "1995-01-01 00:00:00\n",
      "1995-10-01 00:00:00\n",
      "1996-09-01 00:00:00\n",
      "1996-12-01 00:00:00\n",
      "1997-06-01 00:00:00\n",
      "1998-02-01 00:00:00\n",
      "1998-03-01 00:00:00\n",
      "1998-11-01 00:00:00\n",
      "1999-08-01 00:00:00\n",
      "2000-10-01 00:00:00\n",
      "171\n"
     ]
    }
   ],
   "source": [
    "from datetime import datetime, timedelta\n",
    "\n",
    "startDate = datetime(1901,1,1)\n",
    "endDate = datetime(2000,12,31)\n",
    "\n",
    "plusDay = timedelta(days=1)\n",
    "\n",
    "countOfSunday = 0\n",
    "while True:\n",
    "    if startDate == endDate:\n",
    "        break;\n",
    "    \n",
    "    if startDate.weekday() == 6 and startDate.day == 1: #일요일이고 1일\n",
    "        countOfSunday+=1\n",
    "        print (startDate)\n",
    "    \n",
    "    startDate = startDate + plusDay #하루 증가\n",
    "    \n",
    "        \n",
    "print (countOfSunday)"
   ]
  },
  {
   "cell_type": "markdown",
   "metadata": {},
   "source": [
    "datetime, timedleta 모듈을 호출하여 매월 1일이 일요일인 횟수를 구하였다."
   ]
  },
  {
   "cell_type": "markdown",
   "metadata": {},
   "source": [
    "###[11번 문제]\n",
    "\n",
    "프로젝트 오일러 문제 20\n"
   ]
  },
  {
   "cell_type": "code",
   "execution_count": 19,
   "metadata": {
    "collapsed": false
   },
   "outputs": [
    {
     "name": "stdout",
     "output_type": "stream",
     "text": [
      "648\n"
     ]
    }
   ],
   "source": [
    "import math\n",
    "\n",
    "a=math.factorial(100)\n",
    "a=str(int(a))\n",
    "l=list()\n",
    "l+=a\n",
    "print(sum([int(i) for i in l]))"
   ]
  },
  {
   "cell_type": "markdown",
   "metadata": {},
   "source": [
    "math모듈의 factorial함수를 통하여 리스트 내포방식으로 100!의 자리수를 모두 더하였다."
   ]
  },
  {
   "cell_type": "markdown",
   "metadata": {},
   "source": [
    "###[12번 문제]\n",
    "\n",
    "프로젝트 오일러 문제 21"
   ]
  },
  {
   "cell_type": "code",
   "execution_count": 15,
   "metadata": {
    "collapsed": false
   },
   "outputs": [
    {
     "name": "stdout",
     "output_type": "stream",
     "text": [
      "31626\n"
     ]
    }
   ],
   "source": [
    "def getDivisors(N):\n",
    "    divisors = []\n",
    "    for i in range(1, int(N**0.5)+1):\n",
    "        if N % i == 0:\n",
    "            divisors += [i, N/i]\n",
    "    return sorted(list(set(divisors)))\n",
    "\n",
    "def isAmicable(a, b):\n",
    "    return a < b and a == sum(getDivisors(b))-b\n",
    "    \n",
    "print sum([sum([i, sum(getDivisors(i))-i]) for i in range(1,10001) if isAmicable(i, sum(getDivisors(i))-i)])"
   ]
  },
  {
   "cell_type": "markdown",
   "metadata": {},
   "source": [
    "조건을 만족시키기 위해 getDivisors와 isAmicable 함수를 통하여 친화수들을 모두 구하였고, 마지막 리스트 내포방식으로 그 합을 구하였다."
   ]
  },
  {
   "cell_type": "markdown",
   "metadata": {},
   "source": [
    "###[13번 문제]\n",
    "이전 Assignment 3 (Assignment 4가 아님)의 마지막 문제는 웹 URL로 지정된 웹페이지를 문자열로 가져와 모든 HTML 태그 및 CSS와 Javascript를 제외한 순수 텍스트를 얻어내고 그 안에 존재하는 단어를 추출하여 각 단어들에 대해 출현빈도를 사전형태({'world': 2, 'hello': 1, 'python': 1})로 저장하여 출력하는 것이었다. 이번에는 Assignment 3을 다시 확장/변형하여 다음과 같은 조건을 만족하도록 구현하시오."
   ]
  },
  {
   "cell_type": "code",
   "execution_count": 6,
   "metadata": {
    "collapsed": false
   },
   "outputs": [
    {
     "name": "stdout",
     "output_type": "stream",
     "text": [
      "http://www.cnn.com\n",
      "http://www.times.com\n",
      "https://www.amazon.com\n",
      "\n",
      "http://www.cnn.com\n",
      "http://www.times.com\n",
      "\n",
      "http://github.com\n",
      "\n",
      "http://www.cnn.com\n",
      "https://www.amazon.com\n",
      "\n",
      "{'code': 3, 'feedback': 1, 'Enterprise': 2, 'Desktop': 1, 'session': 2, 'Frictionless': 1, 'X': 1, 'Public': 1, 'issues': 1, 'help': 1, 'perfect': 1, 'We': 1, 'ease': 1, 'send': 1, 'desktop': 1, 'better': 1, 'window': 2, 'systems': 1, 'policy': 1, 'team': 1, 'By': 1, 'Training': 1, 'get': 1, 'Please': 1, '2015': 1, 'lowercase': 1, 'community': 1, 'report': 1, 'world': 1, 'servers': 1, 'Where': 2, 'emails': 1, 'projects': 4, 'Shop': 1, 'Help': 1, 'Simple': 1, 'always': 1, 'Powerful': 2, 'refresh': 2, 'teams': 2, 'try': 1, 'API': 1, 'source': 2, 'Skip': 1, 'you\\xe2\\x80\\x99ll': 1, 'went': 1, 'OS': 1, 'Find': 1, 'people': 1, 'Share': 1, 'Create': 1, 'About': 1, 'related': 1, '\\xc2\\xa9': 1, 'hosted': 1, 'our': 1, 'out': 2, 'project': 2, 'tools': 2, 'review': 1, 'content': 1, 'Explore': 1, 'future': 1, 'numeral': 1, 'across': 1, 'Something': 1, 'terms': 1, 'repository': 1, 'This': 1, 'Work': 1, 'communicate': 1, 'free': 1, 'management': 1, 'operating': 1, 'interface': 1, 'Security': 1, 'about': 1, 'Reload': 2, 'starts': 1, 'Sign': 4, 'Contact': 1, '7mo': 1, 'commit': 1, 'changes': 2, 'software': 4, 'comment': 1, 'repositories': 1, 'Use': 1, 'love': 1, 'features': 1, 'Privacy': 1, 'communication': 1, 'Review': 1, 'powerful': 1, 'integrations': 1, 'private': 1, 'one': 2, 'accounts': 1, 'another': 2, 'open': 2, 'your': 7, 'millions': 1, 'Status': 1, 'use': 1, 'GitHub': 10, 'from': 2, 'service': 1, 'privacy': 1, 'together': 1, 'deploy\\xe2\\x80\\x94all': 1, 'seamless': 1, 'least': 1, 'start': 1, 'way': 1, 'letter': 1, 'more': 4, 'clicking': 1, 'collaborators': 1, 'integrate': 1, 'craft': 1, 'Learn': 1, 'account': 1, 'Features': 1, 'World\\xe2\\x80\\x99s': 1, 'up': 3, 'signed': 2, '\\xc2\\xb7': 1, 'Pricing': 2, 'agree': 1, 'Inc': 1, 'seven': 1, 'request': 1, 'contribute': 2, 'Blog': 1, 'tab': 2, 'You': 2, 'native': 1, 'Do': 1, 'Terms': 1, 'built': 2, 'make': 2, 'occasionally': 1, 'build': 1, 'largest': 1, 'you': 3, 'Why': 1, 'development': 2, 'Great': 1, 'plans': 1, 'collaborative': 1, 'again': 1, 'Windows': 1, 'collaboration': 3, 'applications': 1, 'wrong': 1, 'plan': 1, 'characters': 1, 'branches': 1, 'lines': 1, 'Discover': 1, 'Private': 1, 'Want': 1, 'organization': 1, 'discussion': 1}\n",
      "\n",
      "['GitHub']\n",
      "\n",
      "\n",
      "{}\n",
      "\n",
      "None\n"
     ]
    }
   ],
   "source": [
    "# -*- coding: utf8 -*-\n",
    "\n",
    "from bs4 import BeautifulSoup\n",
    "import urllib2\n",
    "import string\n",
    "\n",
    "class WebWordsFrequency:\n",
    "    def __init__(self, *arg):\n",
    "        self.directory = {}\n",
    "        self.l = []\n",
    "        for url in arg:\n",
    "            if url not in self.l:\n",
    "                self.l.append(url)\n",
    "                \n",
    "    def addURL(self, url):\n",
    "        self.directory = {}\n",
    "        if url not in self.l:\n",
    "            self.l.append(url)\n",
    "                \n",
    "    def removeURL(self, url):\n",
    "        self.directory = {}\n",
    "        if url in self.l:\n",
    "            self.l.remove(url)\n",
    "        \n",
    "    def listURL(self):\n",
    "        for url in self.l:\n",
    "            print url\n",
    "            \n",
    "    def getWordsFrequency(self):\n",
    "        for url in self.l:\n",
    "            WebWordsFrequency.parserURL(self.directory, urllib2.urlopen(url).read())\n",
    "            \n",
    "        return self.directory\n",
    "        \n",
    "    def getMaxFreqencyWords(self):\n",
    "        l = [None]\n",
    "        maxValue = 0\n",
    "        index = 0\n",
    "        \n",
    "        if self.l == []:\n",
    "            return None\n",
    "        \n",
    "        for key, value in self.directory.items():\n",
    "           \n",
    "            if value >= maxValue:\n",
    "\n",
    "                if value > maxValue:\n",
    "                    while index >= 0:\n",
    "                        l.remove(l[index])   \n",
    "                        index -= 1\n",
    "                    maxValue = value\n",
    "                    \n",
    "                l.append(key)\n",
    "                index += 1\n",
    "        \n",
    "        return l\n",
    "                \n",
    "    @staticmethod\n",
    "    def parserURL(directory, source):\n",
    "        soup = BeautifulSoup(source, \"html.parser\")\n",
    "        pureWords = soup.text.replace(\"//\",\"\")\n",
    "\n",
    "        pureWords = WebWordsFrequency.deleteCDATA(pureWords)\n",
    "\n",
    "        scrapList = string.punctuation\n",
    "        for i in range(len(scrapList)):\n",
    "            pureWords = pureWords.replace(scrapList[i],'')\n",
    "\n",
    "        wordCount = pureWords.split()\n",
    "\n",
    "        \n",
    "        for word in wordCount:\n",
    "            if word in directory:\n",
    "                directory[str(word.encode('utf-8'))] +=1\n",
    "            else:\n",
    "                directory[str(word.encode('utf-8'))] = 1\n",
    "\n",
    "        stopFilter = ['a','and','are','as','at','be','but','by','for', \n",
    "                  'if','in','into','is','it','no','not','of','on',\n",
    "                  'or','s','such','t','that','the','their','then',\n",
    "                  'there','these','they','this','to','was','will',\n",
    "                  'with']\n",
    "\n",
    "        for word in directory.keys():\n",
    "            if word in stopFilter:\n",
    "                del directory[word]\n",
    "        \n",
    "        \n",
    "    @staticmethod\n",
    "    def deleteCDATA(pureWords):\n",
    "        count = pureWords.count('<![CDATA[')\n",
    "        while count != 0:\n",
    "\n",
    "            startTagCDATA = pureWords.find('<![CDATA[')\n",
    "            endTagCDATA = pureWords.find(']>')\n",
    "            pureWords = pureWords[0:startTagCDATA] + pureWords[endTagCDATA+1:]\n",
    "            count -=1\n",
    "\n",
    "        return pureWords\n",
    "\n",
    "w1 = WebWordsFrequency('http://www.cnn.com', 'http://www.times.com', 'https://www.amazon.com')\n",
    "w2 = WebWordsFrequency('http://www.cnn.com', 'http://www.times.com')\n",
    "w3 = WebWordsFrequency()\n",
    "w1.listURL()\n",
    "print\n",
    "w2.listURL()\n",
    "print\n",
    "w3.listURL()\n",
    "\n",
    "w3.addURL('http://github.com')\n",
    "w3.listURL()\n",
    "print\n",
    "w1.removeURL('http://www.times.com')\n",
    "w1.listURL()\n",
    "print\n",
    "\n",
    "\n",
    "print w3.getWordsFrequency()\n",
    "print\n",
    "print w3.getMaxFreqencyWords()\n",
    "print\n",
    "w3.removeURL('http://github.com')\n",
    "print\n",
    "print w3.getWordsFrequency()\n",
    "print\n",
    "print w3.getMaxFreqencyWords()"
   ]
  },
  {
   "cell_type": "markdown",
   "metadata": {},
   "source": [
    "생성자를 재정의하여 URL을 리스트에 저장하고 사전을 만들었다. getWordsFrequency를 통하여 파싱작업을 했고, 최종적으로 listURL을 통하여 출력하였다."
   ]
  },
  {
   "cell_type": "markdown",
   "metadata": {},
   "source": [
    "###[14번 문제]\n",
    "\n",
    "13번 문제에서 정의한 WebWordsFrequency 클래스를 상속하여 OrderedWebWordsFrequency 클래스를 정의하고 슈퍼클래스에 정의된 getWordsFrequency() 메소드를 오버라이드 하여 단어 출현 빈도를 내림 차순으로 정렬하여 리스트로 출력하시오."
   ]
  },
  {
   "cell_type": "code",
   "execution_count": 7,
   "metadata": {
    "collapsed": false
   },
   "outputs": [
    {
     "name": "stdout",
     "output_type": "stream",
     "text": [
      "[('GitHub', 10), ('your', 7), ('projects', 4), ('Sign', 4), ('software', 4), ('more', 4), ('code', 3), ('up', 3), ('you', 3), ('collaboration', 3), ('Enterprise', 2), ('session', 2), ('window', 2), ('Where', 2), ('Powerful', 2), ('refresh', 2), ('teams', 2), ('source', 2), ('out', 2), ('project', 2), ('tools', 2), ('Reload', 2), ('changes', 2), ('one', 2), ('another', 2), ('open', 2), ('from', 2), ('signed', 2), ('Pricing', 2), ('contribute', 2), ('tab', 2), ('You', 2), ('built', 2), ('make', 2), ('development', 2), ('feedback', 1), ('Desktop', 1), ('Frictionless', 1), ('X', 1), ('Public', 1), ('issues', 1), ('help', 1), ('perfect', 1), ('We', 1), ('ease', 1), ('send', 1), ('desktop', 1), ('better', 1), ('systems', 1), ('policy', 1), ('team', 1), ('By', 1), ('Training', 1), ('get', 1), ('Please', 1), ('2015', 1), ('lowercase', 1), ('community', 1), ('report', 1), ('world', 1), ('servers', 1), ('emails', 1), ('Shop', 1), ('Help', 1), ('Simple', 1), ('always', 1), ('try', 1), ('API', 1), ('Skip', 1), ('you\\xe2\\x80\\x99ll', 1), ('went', 1), ('OS', 1), ('Find', 1), ('people', 1), ('Share', 1), ('Create', 1), ('About', 1), ('related', 1), ('\\xc2\\xa9', 1), ('hosted', 1), ('our', 1), ('review', 1), ('content', 1), ('Explore', 1), ('future', 1), ('numeral', 1), ('across', 1), ('Something', 1), ('terms', 1), ('repository', 1), ('This', 1), ('Work', 1), ('communicate', 1), ('free', 1), ('management', 1), ('operating', 1), ('interface', 1), ('Security', 1), ('about', 1), ('starts', 1), ('Contact', 1), ('7mo', 1), ('commit', 1), ('comment', 1), ('repositories', 1), ('Use', 1), ('love', 1), ('features', 1), ('Privacy', 1), ('communication', 1), ('Review', 1), ('powerful', 1), ('integrations', 1), ('private', 1), ('accounts', 1), ('millions', 1), ('Status', 1), ('use', 1), ('service', 1), ('privacy', 1), ('together', 1), ('deploy\\xe2\\x80\\x94all', 1), ('seamless', 1), ('least', 1), ('start', 1), ('way', 1), ('letter', 1), ('clicking', 1), ('collaborators', 1), ('integrate', 1), ('craft', 1), ('Learn', 1), ('account', 1), ('Features', 1), ('World\\xe2\\x80\\x99s', 1), ('\\xc2\\xb7', 1), ('agree', 1), ('Inc', 1), ('seven', 1), ('request', 1), ('Blog', 1), ('native', 1), ('Do', 1), ('Terms', 1), ('occasionally', 1), ('build', 1), ('largest', 1), ('Why', 1), ('Great', 1), ('plans', 1), ('collaborative', 1), ('again', 1), ('Windows', 1), ('applications', 1), ('wrong', 1), ('plan', 1), ('characters', 1), ('branches', 1), ('lines', 1), ('Discover', 1), ('Private', 1), ('Want', 1), ('organization', 1), ('discussion', 1)]\n",
      "\n",
      "[('feedback', 1), ('Desktop', 1), ('Frictionless', 1), ('X', 1), ('Public', 1), ('issues', 1), ('help', 1), ('perfect', 1), ('We', 1), ('ease', 1), ('send', 1), ('desktop', 1), ('better', 1), ('systems', 1), ('policy', 1), ('team', 1), ('By', 1), ('Training', 1), ('get', 1), ('Please', 1), ('2015', 1), ('lowercase', 1), ('community', 1), ('report', 1), ('world', 1), ('servers', 1), ('emails', 1), ('Shop', 1), ('Help', 1), ('Simple', 1), ('always', 1), ('try', 1), ('API', 1), ('Skip', 1), ('you\\xe2\\x80\\x99ll', 1), ('went', 1), ('OS', 1), ('Find', 1), ('people', 1), ('Share', 1), ('Create', 1), ('About', 1), ('related', 1), ('\\xc2\\xa9', 1), ('hosted', 1), ('our', 1), ('review', 1), ('content', 1), ('Explore', 1), ('future', 1), ('numeral', 1), ('across', 1), ('Something', 1), ('terms', 1), ('repository', 1), ('This', 1), ('Work', 1), ('communicate', 1), ('free', 1), ('management', 1), ('operating', 1), ('interface', 1), ('Security', 1), ('about', 1), ('starts', 1), ('Contact', 1), ('7mo', 1), ('commit', 1), ('comment', 1), ('repositories', 1), ('Use', 1), ('love', 1), ('features', 1), ('Privacy', 1), ('communication', 1), ('Review', 1), ('powerful', 1), ('integrations', 1), ('private', 1), ('accounts', 1), ('millions', 1), ('Status', 1), ('use', 1), ('service', 1), ('privacy', 1), ('together', 1), ('deploy\\xe2\\x80\\x94all', 1), ('seamless', 1), ('least', 1), ('start', 1), ('way', 1), ('letter', 1), ('clicking', 1), ('collaborators', 1), ('integrate', 1), ('craft', 1), ('Learn', 1), ('account', 1), ('Features', 1), ('World\\xe2\\x80\\x99s', 1), ('\\xc2\\xb7', 1), ('agree', 1), ('Inc', 1), ('seven', 1), ('request', 1), ('Blog', 1), ('native', 1), ('Do', 1), ('Terms', 1), ('occasionally', 1), ('build', 1), ('largest', 1), ('Why', 1), ('Great', 1), ('plans', 1), ('collaborative', 1), ('again', 1), ('Windows', 1), ('applications', 1), ('wrong', 1), ('plan', 1), ('characters', 1), ('branches', 1), ('lines', 1), ('Discover', 1), ('Private', 1), ('Want', 1), ('organization', 1), ('discussion', 1), ('Enterprise', 2), ('session', 2), ('window', 2), ('Where', 2), ('Powerful', 2), ('refresh', 2), ('teams', 2), ('source', 2), ('out', 2), ('project', 2), ('tools', 2), ('Reload', 2), ('changes', 2), ('one', 2), ('another', 2), ('open', 2), ('from', 2), ('signed', 2), ('Pricing', 2), ('contribute', 2), ('tab', 2), ('You', 2), ('built', 2), ('make', 2), ('development', 2), ('code', 3), ('up', 3), ('you', 3), ('collaboration', 3), ('projects', 4), ('Sign', 4), ('software', 4), ('more', 4), ('your', 7), ('GitHub', 10)]\n"
     ]
    }
   ],
   "source": [
    "# -*- coding: utf8 -*-\n",
    "\n",
    "class OrderedWebWordsFrequenc(WebWordsFrequency):\n",
    "        \n",
    "    def getWordsFrequency(self, reverse = False):\n",
    "        self.newList = []\n",
    "        \n",
    "        for url in self.l:\n",
    "            WebWordsFrequency.parserURL(self.directory, urllib2.urlopen(url).read())\n",
    "\n",
    "        for key, value in self.directory.items():\n",
    "            self.newList.append((key, value))\n",
    "        \n",
    "        self.newList.sort(OrderedWebWordsFrequenc.MyCmp, reverse = not(reverse))\n",
    "        self.directory = {}\n",
    "        \n",
    "        return self.newList\n",
    "    \n",
    "    @staticmethod\n",
    "    def MyCmp(x, y):\n",
    "        return cmp(x[1], y[1])\n",
    "w4 = OrderedWebWordsFrequenc('http://github.com')\n",
    "print w4.getWordsFrequency()\n",
    "print\n",
    "print w4.getWordsFrequency(reverse = True)"
   ]
  },
  {
   "cell_type": "markdown",
   "metadata": {},
   "source": [
    "상속을 받아서 getWordsFrequency를 재정의 하였다. newList라는 리스트를 만들어서 사전의 아이템을 원소로 넣었고, MyCmp 메소드를 이용하여 정렬하였다."
   ]
  },
  {
   "cell_type": "markdown",
   "metadata": {},
   "source": [
    "###[15번 문제]\n",
    "\n",
    "다음과 같은 코딩이 가능하도록 OrderedWebWordsFrequency 안에 반복자와 관련된 메소드를 추가하시오."
   ]
  },
  {
   "cell_type": "code",
   "execution_count": 9,
   "metadata": {
    "collapsed": false
   },
   "outputs": [
    {
     "name": "stdout",
     "output_type": "stream",
     "text": [
      "('GitHub', 10)\n",
      "('your', 7)\n",
      "('projects', 4)\n",
      "('Sign', 4)\n",
      "('software', 4)\n",
      "('more', 4)\n",
      "('code', 3)\n",
      "('up', 3)\n",
      "('you', 3)\n",
      "('collaboration', 3)\n",
      "('Enterprise', 2)\n",
      "('session', 2)\n",
      "('window', 2)\n",
      "('Where', 2)\n",
      "('Powerful', 2)\n",
      "('refresh', 2)\n",
      "('teams', 2)\n",
      "('source', 2)\n",
      "('out', 2)\n",
      "('project', 2)\n",
      "('tools', 2)\n",
      "('Reload', 2)\n",
      "('changes', 2)\n",
      "('one', 2)\n",
      "('another', 2)\n",
      "('open', 2)\n",
      "('from', 2)\n",
      "('signed', 2)\n",
      "('Pricing', 2)\n",
      "('contribute', 2)\n",
      "('tab', 2)\n",
      "('You', 2)\n",
      "('built', 2)\n",
      "('make', 2)\n",
      "('development', 2)\n",
      "('feedback', 1)\n",
      "('Desktop', 1)\n",
      "('Frictionless', 1)\n",
      "('X', 1)\n",
      "('Public', 1)\n",
      "('issues', 1)\n",
      "('help', 1)\n",
      "('perfect', 1)\n",
      "('We', 1)\n",
      "('ease', 1)\n",
      "('send', 1)\n",
      "('desktop', 1)\n",
      "('better', 1)\n",
      "('systems', 1)\n",
      "('policy', 1)\n",
      "('team', 1)\n",
      "('By', 1)\n",
      "('Training', 1)\n",
      "('get', 1)\n",
      "('Please', 1)\n",
      "('2015', 1)\n",
      "('lowercase', 1)\n",
      "('community', 1)\n",
      "('report', 1)\n",
      "('world', 1)\n",
      "('servers', 1)\n",
      "('emails', 1)\n",
      "('Shop', 1)\n",
      "('Help', 1)\n",
      "('Simple', 1)\n",
      "('always', 1)\n",
      "('try', 1)\n",
      "('API', 1)\n",
      "('Skip', 1)\n",
      "('you\\xe2\\x80\\x99ll', 1)\n",
      "('went', 1)\n",
      "('OS', 1)\n",
      "('Find', 1)\n",
      "('people', 1)\n",
      "('Share', 1)\n",
      "('Create', 1)\n",
      "('About', 1)\n",
      "('related', 1)\n",
      "('\\xc2\\xa9', 1)\n",
      "('hosted', 1)\n",
      "('our', 1)\n",
      "('review', 1)\n",
      "('content', 1)\n",
      "('Explore', 1)\n",
      "('future', 1)\n",
      "('numeral', 1)\n",
      "('across', 1)\n",
      "('Something', 1)\n",
      "('terms', 1)\n",
      "('repository', 1)\n",
      "('This', 1)\n",
      "('Work', 1)\n",
      "('communicate', 1)\n",
      "('free', 1)\n",
      "('management', 1)\n",
      "('operating', 1)\n",
      "('interface', 1)\n",
      "('Security', 1)\n",
      "('about', 1)\n",
      "('starts', 1)\n",
      "('Contact', 1)\n",
      "('7mo', 1)\n",
      "('commit', 1)\n",
      "('comment', 1)\n",
      "('repositories', 1)\n",
      "('Use', 1)\n",
      "('love', 1)\n",
      "('features', 1)\n",
      "('Privacy', 1)\n",
      "('communication', 1)\n",
      "('Review', 1)\n",
      "('powerful', 1)\n",
      "('integrations', 1)\n",
      "('private', 1)\n",
      "('accounts', 1)\n",
      "('millions', 1)\n",
      "('Status', 1)\n",
      "('use', 1)\n",
      "('service', 1)\n",
      "('privacy', 1)\n",
      "('together', 1)\n",
      "('deploy\\xe2\\x80\\x94all', 1)\n",
      "('seamless', 1)\n",
      "('least', 1)\n",
      "('start', 1)\n",
      "('way', 1)\n",
      "('letter', 1)\n",
      "('clicking', 1)\n",
      "('collaborators', 1)\n",
      "('integrate', 1)\n",
      "('craft', 1)\n",
      "('Learn', 1)\n",
      "('account', 1)\n",
      "('Features', 1)\n",
      "('World\\xe2\\x80\\x99s', 1)\n",
      "('\\xc2\\xb7', 1)\n",
      "('agree', 1)\n",
      "('Inc', 1)\n",
      "('seven', 1)\n",
      "('request', 1)\n",
      "('Blog', 1)\n",
      "('native', 1)\n",
      "('Do', 1)\n",
      "('Terms', 1)\n",
      "('occasionally', 1)\n",
      "('build', 1)\n",
      "('largest', 1)\n",
      "('Why', 1)\n",
      "('Great', 1)\n",
      "('plans', 1)\n",
      "('collaborative', 1)\n",
      "('again', 1)\n",
      "('Windows', 1)\n",
      "('applications', 1)\n",
      "('wrong', 1)\n",
      "('plan', 1)\n",
      "('characters', 1)\n",
      "('branches', 1)\n",
      "('lines', 1)\n",
      "('Discover', 1)\n",
      "('Private', 1)\n",
      "('Want', 1)\n",
      "('organization', 1)\n",
      "('discussion', 1)\n"
     ]
    }
   ],
   "source": [
    "class OrderedWebWordsFrequenc(WebWordsFrequency):\n",
    "    \n",
    "    def getWordsFrequency(self, reverse = False):\n",
    "        self.newList = []\n",
    "        \n",
    "        for url in self.l:\n",
    "            WebWordsFrequency.parserURL(self.directory, urllib2.urlopen(url).read())\n",
    "\n",
    "        for key, value in self.directory.items():\n",
    "            self.newList.append((key, value))\n",
    "        \n",
    "        self.newList.sort(OrderedWebWordsFrequenc.MyCmp, reverse = not(reverse))\n",
    "        self.directory = {}\n",
    "        \n",
    "        return self.newList\n",
    "    \n",
    "    @staticmethod\n",
    "    def MyCmp(x, y):\n",
    "        return cmp(x[1], y[1])\n",
    "    \n",
    "    def __iter__(self):\n",
    "        self.getWordsFrequency()\n",
    "        self.count = -1\n",
    "        return self\n",
    "    \n",
    "    def next(self):\n",
    "        self.count += 1\n",
    "        if self.count < len(self.newList):\n",
    "            return self.newList[self.count]\n",
    "        else:\n",
    "            raise StopIteration\n",
    "        \n",
    "    \n",
    "w4 = OrderedWebWordsFrequenc('http://github.com')\n",
    "\n",
    "for i in w4:\n",
    "    print i"
   ]
  },
  {
   "cell_type": "markdown",
   "metadata": {},
   "source": [
    "반복자 iter()메소드를 재정의 하였다. 반복자 메소드의 next함수를 이용하여 count를 비교하고 반복문을 동작하도록 하였다."
   ]
  },
  {
   "cell_type": "markdown",
   "metadata": {},
   "source": [
    "#소감"
   ]
  },
  {
   "cell_type": "markdown",
   "metadata": {},
   "source": [
    "마지막 파이썬 과제와 함께 시험공부를 하면서 파이썬이란 어떤언어인지 어느정도 감이 잡혔다. 한 학기동안 스크립트 프로그래밍 수업을 들으면서 오일러문제등 새로운 것을 접하였고 교수님께서 정말 유익한 내용으로 알찬 강의를 해주신 덕분에 좀 더 성장한 기분이 든다.\n",
    "파이썬은 프레임워크가 잘 되어있기 때문에 이 언어를 잘 배워두면 나중에 유용하게 사용할 일이 있을 거라고 생각이 든다. 한 학기가 벌써 끝나버려서 조금 아쉬움은 남지만 남은 시험을 잘 준비해서 유종의 미를 거둘 수 있게 해야겠다. "
   ]
  }
 ],
 "metadata": {
  "kernelspec": {
   "display_name": "Python 2",
   "language": "python",
   "name": "python2"
  },
  "language_info": {
   "codemirror_mode": {
    "name": "ipython",
    "version": 2
   },
   "file_extension": ".py",
   "mimetype": "text/x-python",
   "name": "python",
   "nbconvert_exporter": "python",
   "pygments_lexer": "ipython2",
   "version": "2.7.9"
  }
 },
 "nbformat": 4,
 "nbformat_minor": 0
}
